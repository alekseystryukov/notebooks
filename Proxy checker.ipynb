{
 "cells": [
  {
   "cell_type": "markdown",
   "metadata": {},
   "source": [
    "# Proxy checker"
   ]
  },
  {
   "cell_type": "code",
   "execution_count": 2,
   "metadata": {
    "collapsed": false
   },
   "outputs": [
    {
     "name": "stdout",
     "output_type": "stream",
     "text": [
      "2516\n",
      "2516\n"
     ]
    }
   ],
   "source": [
    "with open(\"proxies.csv\", \"r\") as f:\n",
    "    proxies = f.read().split()\n",
    "    \n",
    "print(len(proxies))\n",
    "print(len(set(proxies)))\n",
    "\n",
    "with open(\"proxies.csv\", \"w\") as f:\n",
    "    f.write(\"\\n\".join(sorted(set(proxies))))"
   ]
  },
  {
   "cell_type": "code",
   "execution_count": 2,
   "metadata": {
    "collapsed": false
   },
   "outputs": [
    {
     "name": "stdout",
     "output_type": "stream",
     "text": [
      "516\n"
     ]
    }
   ],
   "source": [
    "import requests\n",
    "from lxml import html\n",
    "import queue\n",
    "import threading\n",
    "    \n",
    "NUM_THREADS = 300\n",
    "\n",
    "def check_proxies():   \n",
    "    \n",
    "    tasks = queue.Queue() \n",
    "    responses = queue.Queue() \n",
    "    \n",
    "    with open(\"proxies.csv\", \"r\") as f:\n",
    "        proxies = f.read().split()\n",
    "    \n",
    "    for p in proxies:\n",
    "        tasks.put(p)\n",
    "    \n",
    "    def worker():\n",
    "        while True:\n",
    "            proxy = tasks.get()\n",
    "            if proxy is None:\n",
    "                break \n",
    "                \n",
    "            try:\n",
    "                base_url = \"http://www.nasdaq.com/symbol/{symbol}/time-sales?time={time}&pageno={pageno}\"\n",
    "                url = base_url.format(symbol=\"AAPL\", time=1, pageno=1)\n",
    "                page_res = requests.get(url, timeout=6, proxies={'http': \"http://{}\".format(proxy)})\n",
    "                tree = html.fromstring(page_res.content)\n",
    "            except Exception as e:\n",
    "                pass\n",
    "            else:\n",
    "                try:\n",
    "                    select = tree.find('.//select[@id=\"quotes_content_left_DropDowntimerange\"]')\n",
    "                    if select is None or int(select.value) != 1:\n",
    "                        pass\n",
    "                    else:        \n",
    "                        tree = html.fromstring(page_res.content)\n",
    "                        table = tree.find('.//table[@id=\"AfterHoursPagingContents_Table\"]')\n",
    "                        if table is None:\n",
    "                            pass\n",
    "                        else:\n",
    "                            responses.put(proxy)\n",
    "                except Exception:\n",
    "                    print(e)\n",
    "                 \n",
    "            tasks.task_done()\n",
    "    \n",
    "\n",
    "    threads = []\n",
    "    for i in range(NUM_THREADS):\n",
    "        t = threading.Thread(target=worker)\n",
    "        t.start()\n",
    "        threads.append(t)\n",
    "\n",
    "    # block until all tasks are done\n",
    "    tasks.join()\n",
    "\n",
    "    # stop workers\n",
    "    for i in range(NUM_THREADS):\n",
    "        tasks.put(None)\n",
    "\n",
    "    for t in threads:\n",
    "        t.join()\n",
    "        \n",
    "    approved = []\n",
    "    while True:\n",
    "        try:\n",
    "            proxy = responses.get(block=False)\n",
    "        except queue.Empty:\n",
    "            break\n",
    "        else:\n",
    "            approved.append(proxy)\n",
    "            \n",
    "    print(len(approved))\n",
    "    with open(\"approved_proxies.csv\", \"w\") as f:\n",
    "        f.write(\"\\n\".join(approved))\n",
    "\n",
    "check_proxies()"
   ]
  }
 ],
 "metadata": {
  "kernelspec": {
   "display_name": "Python 3",
   "language": "python",
   "name": "python3"
  },
  "language_info": {
   "codemirror_mode": {
    "name": "ipython",
    "version": 3
   },
   "file_extension": ".py",
   "mimetype": "text/x-python",
   "name": "python",
   "nbconvert_exporter": "python",
   "pygments_lexer": "ipython3",
   "version": "3.4.3"
  }
 },
 "nbformat": 4,
 "nbformat_minor": 2
}
