{
 "cells": [
  {
   "cell_type": "markdown",
   "metadata": {},
   "source": [
    "# Options At Expiration"
   ]
  },
  {
   "cell_type": "markdown",
   "metadata": {},
   "source": [
    "#### Step 1. Notebook will refer to the csv file with the list of stock symbols"
   ]
  },
  {
   "cell_type": "code",
   "execution_count": 1,
   "metadata": {
    "collapsed": false
   },
   "outputs": [
    {
     "data": {
      "text/plain": [
       "['AAPL', 'NFLX', 'BAC', 'NVDA', 'LUV', 'FB', 'AMZN']"
      ]
     },
     "execution_count": 1,
     "metadata": {},
     "output_type": "execute_result"
    }
   ],
   "source": [
    "import csv\n",
    "\n",
    "STOCKS_FILE_NAME = 'OptionsAtExpirationQuotes.csv'\n",
    "\n",
    "def get_stocks():\n",
    "    with open(STOCKS_FILE_NAME, 'r') as f:\n",
    "        reader = csv.reader(f, delimiter=',', quotechar='\"')\n",
    "        stocks = [stock.strip() for row in reader for stock in row]\n",
    "    return stocks\n",
    "\n",
    "get_stocks()"
   ]
  },
  {
   "cell_type": "markdown",
   "metadata": {},
   "source": [
    "#### Step 2. Notebook will scan options for these stock symbols (around 100 symbols) to identify large option transactions"
   ]
  },
  {
   "cell_type": "code",
   "execution_count": 2,
   "metadata": {
    "collapsed": true
   },
   "outputs": [],
   "source": [
    "import queue\n",
    "import requests\n",
    "import threading\n",
    "\n",
    "\n",
    "def load_data(stocks, time, friday):\n",
    "    \n",
    "    num_worker_threads = 100\n",
    "    \n",
    "    def worker():\n",
    "        while True:\n",
    "            args = q.get()\n",
    "            if args is None:\n",
    "                break\n",
    "            get_transactions(q, r, *args)  # <-- see definition of this function below\n",
    "            q.task_done()\n",
    "\n",
    "    q = queue.Queue() # queue with arguments for the 'get_transactions' function\n",
    "    r = queue.Queue() # queue with raw responses\n",
    "\n",
    "    threads = []\n",
    "    for i in range(num_worker_threads):\n",
    "        t = threading.Thread(target=worker)\n",
    "        t.start()\n",
    "        threads.append(t)\n",
    "\n",
    "    for stock in stocks:\n",
    "        q.put((stock, friday))\n",
    "\n",
    "    # block until all tasks are done\n",
    "    q.join()\n",
    "\n",
    "    # stop workers\n",
    "    for i in range(num_worker_threads):\n",
    "        q.put(None)\n",
    "\n",
    "    for t in threads:\n",
    "        t.join()\n",
    "        \n",
    "    save_rows(r, time)\n",
    "    \n",
    "    \n",
    "def get_transactions(queue, resp_queue, stock, friday):     \n",
    "    url = \"https://query1.finance.yahoo.com/v7/finance/options/{}\".format(stock)\n",
    "    try:\n",
    "        page = requests.get(url)\n",
    "    except Exception as e:\n",
    "        print(e)\n",
    "    else:\n",
    "        try:\n",
    "            response = page.json()\n",
    "        except Exception as e:\n",
    "            print(e)\n",
    "        else:\n",
    "            if response['optionChain']['error']: # if any error\n",
    "                print(response['optionChain']['error'])\n",
    "\n",
    "            else:            \n",
    "                results = response['optionChain']['result']\n",
    "                for result in results:\n",
    "                    nearest_day = dt.fromtimestamp(result['expirationDates'][0]).date()\n",
    "                    if nearest_day <= friday:\n",
    "                        price = result['quote']['regularMarketPrice']\n",
    "                        for option in result['options']:\n",
    "                            resp_queue.put(\n",
    "                                (stock, price, option['calls'], option['puts'])\n",
    "                            )                "
   ]
  },
  {
   "cell_type": "code",
   "execution_count": 3,
   "metadata": {
    "collapsed": true
   },
   "outputs": [],
   "source": [
    "# Functions which take response from the response queue and put to the 'largest_transactions' list\n",
    "def save_rows(q, time):\n",
    "    while True:\n",
    "        try:\n",
    "            stock, price, calls, puts = q.get(block=False)\n",
    "        except queue.Empty:\n",
    "            break\n",
    "        else:\n",
    "            if stock not in this_week_stocks:\n",
    "                this_week_stocks.append(stock)\n",
    "            for call in calls:\n",
    "                save_row(stock, price, 'Calls', time, call)\n",
    "            for put in puts:\n",
    "                save_row(stock, price, 'Puts', time, put)\n",
    "\n",
    "def save_row(s, price, t, time, raw):\n",
    "    contact = raw['contractSymbol']    \n",
    "    previous_volume = transaction_volumes.get(contact)\n",
    "    volume = raw['volume']\n",
    "    if previous_volume is None:\n",
    "        transaction_volumes[contact] = volume\n",
    "    else:         \n",
    "        volume_diff = volume - previous_volume\n",
    "        if volume_diff > 0:            \n",
    "            transaction_volumes[contact] = volume\n",
    "            \n",
    "            last_price = raw['lastPrice']\n",
    "            strike = raw['strike']\n",
    "            ask = raw['ask']\n",
    "            bid = raw['bid']\n",
    "            if s not in largest_transactions:\n",
    "                largest_transactions[s] = []\n",
    "            largest_transactions[s].append(\n",
    "                dict(\n",
    "                    stock=s,\n",
    "                    price=price,\n",
    "                    type=t,\n",
    "                    time=time,\n",
    "                    expiration=dt.fromtimestamp(raw['expiration']),\n",
    "                    strike=strike,\n",
    "                    contact=contact,\n",
    "                    last_price=last_price,\n",
    "                    bid=bid,\n",
    "                    ask=ask,\n",
    "                    volume=volume,\n",
    "                    open_interest=raw['openInterest'],\n",
    "                    implied_volatility=raw['impliedVolatility'],\n",
    "                    volume_diff=volume_diff,\n",
    "                    cost=volume_diff * 100 * last_price,\n",
    "                    strike_div_price=(strike / price - 1) * 100,\n",
    "                    last_price_position=\"{:.0f}\".format((1 - (ask-last_price) / (ask-bid)) * 100) if ask != bid else None\n",
    "                )\n",
    "            )"
   ]
  },
  {
   "cell_type": "markdown",
   "metadata": {},
   "source": [
    "#### Step 3. Notebook will show these transactions in the table"
   ]
  },
  {
   "cell_type": "code",
   "execution_count": 4,
   "metadata": {
    "collapsed": true
   },
   "outputs": [],
   "source": [
    "# This function will display the table\n",
    "from IPython.display import clear_output, display, HTML\n",
    "\n",
    "headers = (\n",
    "    \"Stock\", \"Share $\", \"Options\", \"Volume\", \"Open Interest\", \"Strike\", \"S / S\", \n",
    "    \"Expiration\", \"Last price\", \"Bid\", \"Ask\", \"Position\",  \"Value\", \"Time of trade\",\n",
    ")\n",
    "row = \"\"\"\n",
    "<td>{stock}</td><td>{price}</td><td>{type}</td><td>{volume_diff}</td><td>{open_interest}</td>\n",
    "<td>{strike}</td><td>{strike_div_price:.2f}%</td><td>{expiration:%b %d, %Y}</td>\n",
    "<td>{last_price}</td><td>{bid}</td><td>{ask}</td><td>{last_price_position}%</td>\n",
    "<td>${cost:,.0f}</td><td>{time:%I:%M%p}</td>\n",
    "\"\"\"\n",
    "\n",
    "def display_data():    \n",
    "    table_rows = (row.format(**row_data) for rows in largest_transactions.values() for row_data in rows)           \n",
    "    clear_output()\n",
    "    display(\n",
    "        HTML(\n",
    "            '<table><tr><th>{}</th></tr><tr>{}</tr></table>'.format(\n",
    "                \"</th><th>\".join(headers),\n",
    "                \"</tr><tr>\".join(table_rows)\n",
    "            )\n",
    "        )\n",
    "    ) "
   ]
  },
  {
   "cell_type": "code",
   "execution_count": 5,
   "metadata": {
    "collapsed": false
   },
   "outputs": [],
   "source": [
    "from datetime import datetime as dt, timedelta as td\n",
    "from collections import OrderedDict\n",
    "from pytz import timezone\n",
    "from time import sleep\n",
    "import heapq\n",
    "\n",
    "tz = timezone('America/Los_Angeles')\n",
    "STOCKS_FILE_NAME = 'OptionsAtExpirationQuotes.csv'\n",
    "TOP_ITEMS_COUNT = 20\n",
    "all_stocks = get_stocks()\n",
    "this_week_stocks = []\n",
    "\n",
    "last_time = None\n",
    "count = 1\n",
    "largest_transactions = {}  # here we will store top entries\n",
    "transaction_volumes = {}  # latest volumes for transactions"
   ]
  },
  {
   "cell_type": "code",
   "execution_count": null,
   "metadata": {
    "collapsed": false,
    "scrolled": false
   },
   "outputs": [],
   "source": [
    "# The main proccess loop\n",
    "while True:    \n",
    "    now = dt.now(tz=tz)\n",
    "    start = now.replace(hour=6, minute=30, second=0, microsecond=0)\n",
    "    stop = start.replace(hour=13, minute=0)\n",
    "    weekday = now.isoweekday()  # 1 - monday, 5 - friday\n",
    "    \n",
    "    # refresh this week stocks every monday\n",
    "    if last_time and last_time.isoweekday() != weekday:\n",
    "        print('Drop this week stocks')\n",
    "        this_week_stocks = []\n",
    "    \n",
    "    if weekday < 6 and start <= now <= stop: # proper time and day for getting data\n",
    "        \n",
    "        if last_time: # no more often than once per minute\n",
    "            diff = 60 - (now - last_time).seconds            \n",
    "            if diff > 0:\n",
    "                sleep(diff) \n",
    "        \n",
    "        days_to_friday = 5 - weekday\n",
    "        friday = now.date()\n",
    "        if days_to_friday:\n",
    "            friday += td(days=days_to_friday)        \n",
    "        \n",
    "        load_data(this_week_stocks or all_stocks, now, friday)\n",
    "        \n",
    "        # get top transactions\n",
    "        for k, v in largest_transactions.items():\n",
    "            largest_transactions[k] = heapq.nlargest(TOP_ITEMS_COUNT, v, key=lambda i: i['cost'])\n",
    "            \n",
    "        # sort stocks by cost sum\n",
    "        largest_transactions = OrderedDict(\n",
    "            sorted(largest_transactions.items(), key=lambda t: sum(i['cost'] for i in t[1]), reverse=True)\n",
    "        )        \n",
    "        display_data()  \n",
    "        \n",
    "        # some statistics\n",
    "        print(\"prev update\", last_time)\n",
    "        print(\"last update\", now)         \n",
    "        print(\"update time\", dt.now(tz=tz) - now)\n",
    "        print(\"iterations\", count)  \n",
    "        print(this_week_stocks)\n",
    "        count += 1        \n",
    "        last_time = now \n",
    "    else:\n",
    "        \n",
    "        if weekday < 6 and now < start:\n",
    "            diff = start - now            \n",
    "        else:\n",
    "            largest_transactions = {} # drop transactions\n",
    "            \n",
    "            days = 8 - weekday if weekday > 5 else 1                \n",
    "            next_start = start + td(days=days)\n",
    "            diff = next_start - now\n",
    "            \n",
    "        print(\"time to next start:\", diff)\n",
    "        sleep(diff.seconds + diff.microseconds * 0.1 ** 6)"
   ]
  }
 ],
 "metadata": {
  "kernelspec": {
   "display_name": "Python 3",
   "language": "python",
   "name": "python3"
  },
  "language_info": {
   "codemirror_mode": {
    "name": "ipython",
    "version": 3
   },
   "file_extension": ".py",
   "mimetype": "text/x-python",
   "name": "python",
   "nbconvert_exporter": "python",
   "pygments_lexer": "ipython3",
   "version": "3.4.3"
  }
 },
 "nbformat": 4,
 "nbformat_minor": 2
}
