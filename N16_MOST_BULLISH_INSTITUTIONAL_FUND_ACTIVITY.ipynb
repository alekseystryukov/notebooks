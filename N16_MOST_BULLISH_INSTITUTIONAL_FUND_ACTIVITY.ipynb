{
 "cells": [
  {
   "cell_type": "code",
   "execution_count": 1,
   "metadata": {
    "collapsed": true
   },
   "outputs": [],
   "source": [
    "from IPython.display import display, HTML\n",
    "from datetime import datetime\n",
    "from lxml import html, etree, objectify\n",
    "import pandas as pd\n",
    "import requests\n",
    "import threading\n",
    "import queue\n",
    "import csv\n",
    "import os"
   ]
  },
  {
   "cell_type": "code",
   "execution_count": 2,
   "metadata": {},
   "outputs": [
    {
     "data": {
      "text/plain": [
       "3198"
      ]
     },
     "execution_count": 2,
     "metadata": {},
     "output_type": "execute_result"
    }
   ],
   "source": [
    "def get_symbols():\n",
    "    with open(\"n16_symbols.csv\", \"r\") as f:\n",
    "        symbols = f.read().split()\n",
    "    return list(set(symbols))\n",
    "symbols = get_symbols()\n",
    "len(symbols)"
   ]
  },
  {
   "cell_type": "code",
   "execution_count": 3,
   "metadata": {},
   "outputs": [
    {
     "data": {
      "text/plain": [
       "{'decreased_holders': '264',\n",
       " 'decreased_shares': '15767469',\n",
       " 'held_holders': '127',\n",
       " 'held_shares': '74301228',\n",
       " 'increased_holders': '393',\n",
       " 'increased_shares': '5260346',\n",
       " 'institutional_ownership': '56.72%',\n",
       " 'new_holders': '122',\n",
       " 'new_shares': '1344778',\n",
       " 'price': '$300.75',\n",
       " 'sold_holders': '63',\n",
       " 'sold_shares': '1765435',\n",
       " 'total_shares': '168'}"
      ]
     },
     "execution_count": 3,
     "metadata": {},
     "output_type": "execute_result"
    }
   ],
   "source": [
    "def get_data(symbol):\n",
    "    url = \"http://www.nasdaq.com/symbol/{}/institutional-holdings\".format(symbol.lower())\n",
    "    page = requests.get(url)\n",
    "    tree = html.fromstring(page.content)    \n",
    "    \n",
    "    data = {}\n",
    "    # Price \n",
    "    div = tree.find('.//div[@id=\"qwidget_lastsale\"]')\n",
    "    if div is not None:\n",
    "        data[\"price\"] = div.text\n",
    "        \n",
    "    def get_text_val(t):\n",
    "        return (\"0\" if t is None else t).replace(\",\", \"\")\n",
    "    \n",
    "    # Institutional Ownership\n",
    "    table = tree.find('.//div[@class=\"infoTable marginT15px marginL15px\"]')\n",
    "    if table is not None:\n",
    "        for row in table.findall('.//tr'):\n",
    "            th_cell, td_cell = row\n",
    "            title, value = th_cell.text, get_text_val(td_cell.text)\n",
    "            if title == \"Total Shares Outstanding (millions)\":\n",
    "                data[\"total_shares\"] = value\n",
    "            elif title == \"Institutional Ownership\":\n",
    "                data[\"institutional_ownership\"] = value\n",
    "    \n",
    "    # Active positions\n",
    "    table = tree.find('.//div[@class=\"infoTable paddingT5px\"]')\n",
    "    if table is not None:\n",
    "        for row in table.findall('.//tr'):\n",
    "            first, second, third = row\n",
    "            label, holders, shares = first.text, get_text_val(second.text), get_text_val(third.text)\n",
    "            if label == \"Increased Positions\":\n",
    "                data[\"increased_holders\"] = holders\n",
    "                data[\"increased_shares\"] = shares\n",
    "            elif label == \"Decreased Positions\":\n",
    "                data[\"decreased_holders\"] = holders\n",
    "                data[\"decreased_shares\"] = shares\n",
    "            elif label == \"Held Positions\":\n",
    "                data[\"held_holders\"] = holders\n",
    "                data[\"held_shares\"] = shares\n",
    "    \n",
    "    # New and sold out positions    \n",
    "    table = tree.find('.//div[@class=\"infoTable floatL marginT15px\"]')\n",
    "    if table is not None:\n",
    "        for row in table.findall('.//tr'):\n",
    "            first, second, third = row\n",
    "            label, holders, shares = first.text, get_text_val(second.text), get_text_val(third.text)\n",
    "            if label == \"New Positions\":\n",
    "                data[\"new_holders\"] = holders\n",
    "                data[\"new_shares\"] = shares\n",
    "            elif label == \"Sold Out Positions\":\n",
    "                data[\"sold_holders\"] = holders\n",
    "                data[\"sold_shares\"] = shares\n",
    "            \n",
    "    return data\n",
    "\n",
    "get_data(\"TSLA\")"
   ]
  },
  {
   "cell_type": "code",
   "execution_count": 4,
   "metadata": {},
   "outputs": [
    {
     "name": "stdout",
     "output_type": "stream",
     "text": [
      "Couldn't get data for PVTB\n",
      "Couldn't get data for PNRA\n",
      "Couldn't get data for AAPC\n",
      "Couldn't get data for SPNC\n",
      "Couldn't get data for NVET\n",
      "Couldn't get data for UNXL\n",
      "Couldn't get data for ARIS\n",
      "Couldn't get data for OKSB\n",
      "Couldn't get data for CLACU\n",
      "Couldn't get data for MXPT\n",
      "Couldn't get data for PAACU\n",
      "Couldn't get data for SPLS\n",
      "Couldn't get data for MOCO\n",
      "Couldn't get data for GSOL\n",
      "Couldn't get data for TUTT\n",
      "Couldn't get data for INNL\n",
      "Couldn't get data for WMAR\n",
      "Couldn't get data for SPAN\n",
      "Couldn't get data for ZBZZT\n",
      "Couldn't get data for FUEL\n",
      "Couldn't get data for AXARU\n",
      "Couldn't get data for COVS\n",
      "Couldn't get data for AGNCP\n",
      "Couldn't get data for DRWI\n",
      "Couldn't get data for GNVC\n",
      "Couldn't get data for CPAAW\n",
      "Couldn't get data for RTK\n",
      "Couldn't get data for HOTRW\n",
      "Couldn't get data for EVBS\n",
      "Couldn't get data for EGT\n",
      "Couldn't get data for PTXP\n",
      "Couldn't get data for ELOS\n",
      "Couldn't get data for PLYAW\n",
      "Couldn't get data for ACTX\n",
      "Couldn't get data for SAJA\n",
      "Couldn't get data for AXAR\n",
      "Couldn't get data for AIQ\n",
      "Couldn't get data for ZVZZC\n",
      "Couldn't get data for LMIA\n",
      "Couldn't get data for CACQ\n",
      "Couldn't get data for GLADO\n",
      "Couldn't get data for ASBB\n",
      "Couldn't get data for ZXZZT\n",
      "Couldn't get data for PCBK\n",
      "Couldn't get data for NUTR\n",
      "Couldn't get data for CRDS\n",
      "Couldn't get data for TUTI\n",
      "Couldn't get data for SEV\n",
      "Couldn't get data for FULLL\n",
      "Couldn't get data for ENOC\n",
      "Couldn't get data for WFM\n",
      "Couldn't get data for WBKC\n",
      "Couldn't get data for CRDT\n",
      "Couldn't get data for OXLCN\n",
      "Couldn't get data for DGAS\n",
      "Couldn't get data for NCIT\n",
      "Couldn't get data for FCFP\n",
      "Couldn't get data for HCAPL\n",
      "Couldn't get data for ZVZZT\n",
      "Couldn't get data for PRFZ\n",
      "Couldn't get data for FSBK\n",
      "Couldn't get data for WBB\n",
      "Couldn't get data for NDRM\n",
      "Couldn't get data for NDRAU\n",
      "Couldn't get data for TVIA\n",
      "Couldn't get data for NAME\n",
      "Couldn't get data for ZCZZT\n",
      "Couldn't get data for PAACR\n",
      "Couldn't get data for RNVAZ\n",
      "Couldn't get data for WOOF\n",
      "Couldn't get data for MSLI\n",
      "Couldn't get data for PRXL\n",
      "Couldn't get data for CCN\n",
      "Couldn't get data for MAUI\n",
      "Couldn't get data for ZAZZT\n",
      "Couldn't get data for CPAAU\n",
      "Couldn't get data for PVTBP\n",
      "Couldn't get data for SGBK\n",
      "Couldn't get data for MRVC\n",
      "Couldn't get data for ZJZZT\n",
      "Couldn't get data for SHOR\n",
      "Couldn't get data for SCLN\n",
      "Couldn't get data for NVDQ\n",
      "Couldn't get data for AXARW\n",
      "Couldn't get data for SRSC\n",
      "Couldn't get data for CUNB\n",
      "Couldn't get data for WSTC\n",
      "Couldn't get data for UBND\n",
      "Couldn't get data for PERF\n",
      "Couldn't get data for FRP\n",
      "Couldn't get data for DCTH\n",
      "Couldn't get data for FINQ\n",
      "Couldn't get data for GUID\n",
      "Couldn't get data for ZXYZ.A\n",
      "Couldn't get data for BMLA\n",
      "Couldn't get data for KITE\n",
      "Couldn't get data for CPAA\n",
      "Couldn't get data for ZWZZT\n",
      "Couldn't get data for HNH\n",
      "Couldn't get data for IMED\n",
      "Couldn't get data for WBMD\n",
      "Couldn't get data for HRMNU\n",
      "Couldn't get data for AMRI\n",
      "Couldn't get data for WSFSL\n",
      "Couldn't get data for FITS\n"
     ]
    }
   ],
   "source": [
    "directory = os.path.join(\"n16_data_cache\", str(datetime.now().date()))\n",
    "if not os.path.exists(directory):\n",
    "    os.makedirs(directory)\n",
    "\n",
    "def save_data_to_cache(symbols):\n",
    "    \n",
    "    num_worker_threads = 10\n",
    "    \n",
    "    def worker():\n",
    "        while True:\n",
    "            symbol = q.get()\n",
    "            if symbol is None:\n",
    "                break\n",
    "                \n",
    "            data = get_data(symbol)\n",
    "            if data:\n",
    "                fname = os.path.join(directory, \"{}.csv\".format(symbol))\n",
    "                with open(fname, 'w') as f:\n",
    "                    w = csv.DictWriter(f, data.keys())\n",
    "                    w.writeheader()\n",
    "                    w.writerow(data)\n",
    "            else:\n",
    "                print(\"Couldn't get data for {}\".format(symbol))\n",
    "            \n",
    "            q.task_done()\n",
    "\n",
    "    q = queue.Queue()\n",
    "\n",
    "    threads = []\n",
    "    for i in range(num_worker_threads):\n",
    "        t = threading.Thread(target=worker)\n",
    "        t.start()\n",
    "        threads.append(t)\n",
    "\n",
    "    for symbol in symbols:\n",
    "        fname = os.path.join(directory, \"{}.csv\".format(symbol))\n",
    "        if not os.path.isfile(fname):  # not in the cache\n",
    "            q.put(symbol)\n",
    "\n",
    "    # block until all tasks are done\n",
    "    q.join()\n",
    "\n",
    "    # stop workers\n",
    "    for i in range(num_worker_threads):\n",
    "        q.put(None)\n",
    "    \n",
    "    # join threads\n",
    "    for t in threads:\n",
    "        t.join()\n",
    "        \n",
    "save_data_to_cache(symbols)"
   ]
  },
  {
   "cell_type": "code",
   "execution_count": 5,
   "metadata": {
    "scrolled": true
   },
   "outputs": [
    {
     "data": {
      "text/plain": [
       "{'decreased_holders': 264.0,\n",
       " 'decreased_shares': 15767469.0,\n",
       " 'held_holders': 127.0,\n",
       " 'held_shares': 74301228.0,\n",
       " 'increased_holders': 393.0,\n",
       " 'increased_shares': 5260346.0,\n",
       " 'institutional_ownership': '56.72%',\n",
       " 'new_holders': 122.0,\n",
       " 'new_shares': 1344778.0,\n",
       " 'price': '$300.5',\n",
       " 'sold_holders': 63.0,\n",
       " 'sold_shares': 1765435.0,\n",
       " 'total_shares': 168.0}"
      ]
     },
     "execution_count": 5,
     "metadata": {},
     "output_type": "execute_result"
    }
   ],
   "source": [
    "def get_data_from_cache(symbol):\n",
    "    fname = os.path.join(directory, \"{}.csv\".format(symbol))\n",
    "    if os.path.isfile(fname):\n",
    "        with open(fname, 'r') as f:\n",
    "            reader = csv.reader(f)\n",
    "            header, values = reader\n",
    "            values = [float(v) if v.isnumeric() else v for v in values]\n",
    "            data = dict(zip(header, values))\n",
    "            return data\n",
    "\n",
    "get_data_from_cache(\"TSLA\")"
   ]
  },
  {
   "cell_type": "code",
   "execution_count": 6,
   "metadata": {},
   "outputs": [
    {
     "data": {
      "text/html": [
       "<div>\n",
       "<table border=\"1\" class=\"dataframe\">\n",
       "  <thead>\n",
       "    <tr style=\"text-align: right;\">\n",
       "      <th></th>\n",
       "      <th>decreased_holders</th>\n",
       "      <th>decreased_shares</th>\n",
       "      <th>held_holders</th>\n",
       "      <th>held_shares</th>\n",
       "      <th>increased_holders</th>\n",
       "      <th>increased_shares</th>\n",
       "      <th>institutional_ownership</th>\n",
       "      <th>new_holders</th>\n",
       "      <th>new_shares</th>\n",
       "      <th>price</th>\n",
       "      <th>sold_holders</th>\n",
       "      <th>sold_shares</th>\n",
       "      <th>symbol</th>\n",
       "      <th>total_shares</th>\n",
       "    </tr>\n",
       "  </thead>\n",
       "  <tbody>\n",
       "    <tr>\n",
       "      <th>0</th>\n",
       "      <td>16.0</td>\n",
       "      <td>171421.0</td>\n",
       "      <td>7.0</td>\n",
       "      <td>4.09444e+06</td>\n",
       "      <td>41.0</td>\n",
       "      <td>2123056.0</td>\n",
       "      <td>38.14%</td>\n",
       "      <td>14.0</td>\n",
       "      <td>329081.0</td>\n",
       "      <td>$38.17</td>\n",
       "      <td>6.0</td>\n",
       "      <td>130120.0</td>\n",
       "      <td>FEP</td>\n",
       "      <td>17.0</td>\n",
       "    </tr>\n",
       "    <tr>\n",
       "      <th>1</th>\n",
       "      <td>1.0</td>\n",
       "      <td>2100.0</td>\n",
       "      <td>2.0</td>\n",
       "      <td>209476</td>\n",
       "      <td>7.0</td>\n",
       "      <td>120416.0</td>\n",
       "      <td>04.78%</td>\n",
       "      <td>6.0</td>\n",
       "      <td>109199.0</td>\n",
       "      <td>$64.82</td>\n",
       "      <td>0.0</td>\n",
       "      <td>0.0</td>\n",
       "      <td>GRVY</td>\n",
       "      <td>7.0</td>\n",
       "    </tr>\n",
       "    <tr>\n",
       "      <th>2</th>\n",
       "      <td>54.0</td>\n",
       "      <td>912755.0</td>\n",
       "      <td>21.0</td>\n",
       "      <td>1.45593e+07</td>\n",
       "      <td>55.0</td>\n",
       "      <td>1492969.0</td>\n",
       "      <td>101.44%</td>\n",
       "      <td>8.0</td>\n",
       "      <td>274237.0</td>\n",
       "      <td>$73.62</td>\n",
       "      <td>21.0</td>\n",
       "      <td>374656.0</td>\n",
       "      <td>MGPI</td>\n",
       "      <td>17.0</td>\n",
       "    </tr>\n",
       "    <tr>\n",
       "      <th>3</th>\n",
       "      <td>38.0</td>\n",
       "      <td>1356376.0</td>\n",
       "      <td>16.0</td>\n",
       "      <td>2.70883e+07</td>\n",
       "      <td>55.0</td>\n",
       "      <td>1244120.0</td>\n",
       "      <td>76.81%</td>\n",
       "      <td>15.0</td>\n",
       "      <td>303104.0</td>\n",
       "      <td>$9.725</td>\n",
       "      <td>8.0</td>\n",
       "      <td>158492.0</td>\n",
       "      <td>LOCO</td>\n",
       "      <td>39.0</td>\n",
       "    </tr>\n",
       "    <tr>\n",
       "      <th>4</th>\n",
       "      <td>9.0</td>\n",
       "      <td>7083.0</td>\n",
       "      <td>11.0</td>\n",
       "      <td>349042</td>\n",
       "      <td>8.0</td>\n",
       "      <td>33461.0</td>\n",
       "      <td>17.37%</td>\n",
       "      <td>6.0</td>\n",
       "      <td>29927.0</td>\n",
       "      <td>$57.302</td>\n",
       "      <td>4.0</td>\n",
       "      <td>1410.0</td>\n",
       "      <td>FSFG</td>\n",
       "      <td>2.0</td>\n",
       "    </tr>\n",
       "    <tr>\n",
       "      <th>5</th>\n",
       "      <td>16.0</td>\n",
       "      <td>322392.0</td>\n",
       "      <td>6.0</td>\n",
       "      <td>195663</td>\n",
       "      <td>7.0</td>\n",
       "      <td>144512.0</td>\n",
       "      <td>06.46%</td>\n",
       "      <td>3.0</td>\n",
       "      <td>124195.0</td>\n",
       "      <td>$2.73</td>\n",
       "      <td>10.0</td>\n",
       "      <td>217414.0</td>\n",
       "      <td>CETX</td>\n",
       "      <td>10.0</td>\n",
       "    </tr>\n",
       "    <tr>\n",
       "      <th>6</th>\n",
       "      <td>0.0</td>\n",
       "      <td>0.0</td>\n",
       "      <td>0.0</td>\n",
       "      <td>0</td>\n",
       "      <td>0.0</td>\n",
       "      <td>0.0</td>\n",
       "      <td>0%</td>\n",
       "      <td>0.0</td>\n",
       "      <td>0.0</td>\n",
       "      <td>$24.4</td>\n",
       "      <td>0.0</td>\n",
       "      <td>0.0</td>\n",
       "      <td>GFNSL</td>\n",
       "      <td>3.0</td>\n",
       "    </tr>\n",
       "    <tr>\n",
       "      <th>7</th>\n",
       "      <td>87.0</td>\n",
       "      <td>10449534.0</td>\n",
       "      <td>27.0</td>\n",
       "      <td>2.63324e+07</td>\n",
       "      <td>139.0</td>\n",
       "      <td>12142273.0</td>\n",
       "      <td>68.41%</td>\n",
       "      <td>49.0</td>\n",
       "      <td>2816846.0</td>\n",
       "      <td>$98.02</td>\n",
       "      <td>27.0</td>\n",
       "      <td>710296.0</td>\n",
       "      <td>SINA</td>\n",
       "      <td>72.0</td>\n",
       "    </tr>\n",
       "    <tr>\n",
       "      <th>8</th>\n",
       "      <td>0.0</td>\n",
       "      <td>0.0</td>\n",
       "      <td>0.0</td>\n",
       "      <td>0</td>\n",
       "      <td>0.0</td>\n",
       "      <td>0.0</td>\n",
       "      <td>0</td>\n",
       "      <td>0.0</td>\n",
       "      <td>0.0</td>\n",
       "      <td>NaN</td>\n",
       "      <td>0.0</td>\n",
       "      <td>0.0</td>\n",
       "      <td>HRMNW</td>\n",
       "      <td>0.0</td>\n",
       "    </tr>\n",
       "    <tr>\n",
       "      <th>9</th>\n",
       "      <td>111.0</td>\n",
       "      <td>5259309.0</td>\n",
       "      <td>23.0</td>\n",
       "      <td>3.80965e+07</td>\n",
       "      <td>95.0</td>\n",
       "      <td>3776271.0</td>\n",
       "      <td>97.58%</td>\n",
       "      <td>24.0</td>\n",
       "      <td>1312169.0</td>\n",
       "      <td>$16.3</td>\n",
       "      <td>43.0</td>\n",
       "      <td>2508992.0</td>\n",
       "      <td>VECO</td>\n",
       "      <td>48.0</td>\n",
       "    </tr>\n",
       "  </tbody>\n",
       "</table>\n",
       "</div>"
      ],
      "text/plain": [
       "   decreased_holders  decreased_shares  held_holders  held_shares  \\\n",
       "0               16.0          171421.0           7.0  4.09444e+06   \n",
       "1                1.0            2100.0           2.0       209476   \n",
       "2               54.0          912755.0          21.0  1.45593e+07   \n",
       "3               38.0         1356376.0          16.0  2.70883e+07   \n",
       "4                9.0            7083.0          11.0       349042   \n",
       "5               16.0          322392.0           6.0       195663   \n",
       "6                0.0               0.0           0.0            0   \n",
       "7               87.0        10449534.0          27.0  2.63324e+07   \n",
       "8                0.0               0.0           0.0            0   \n",
       "9              111.0         5259309.0          23.0  3.80965e+07   \n",
       "\n",
       "   increased_holders  increased_shares institutional_ownership  new_holders  \\\n",
       "0               41.0         2123056.0                  38.14%         14.0   \n",
       "1                7.0          120416.0                  04.78%          6.0   \n",
       "2               55.0         1492969.0                 101.44%          8.0   \n",
       "3               55.0         1244120.0                  76.81%         15.0   \n",
       "4                8.0           33461.0                  17.37%          6.0   \n",
       "5                7.0          144512.0                  06.46%          3.0   \n",
       "6                0.0               0.0                      0%          0.0   \n",
       "7              139.0        12142273.0                  68.41%         49.0   \n",
       "8                0.0               0.0                       0          0.0   \n",
       "9               95.0         3776271.0                  97.58%         24.0   \n",
       "\n",
       "   new_shares    price  sold_holders  sold_shares symbol  total_shares  \n",
       "0    329081.0   $38.17           6.0     130120.0    FEP          17.0  \n",
       "1    109199.0   $64.82           0.0          0.0   GRVY           7.0  \n",
       "2    274237.0   $73.62          21.0     374656.0   MGPI          17.0  \n",
       "3    303104.0   $9.725           8.0     158492.0   LOCO          39.0  \n",
       "4     29927.0  $57.302           4.0       1410.0   FSFG           2.0  \n",
       "5    124195.0    $2.73          10.0     217414.0   CETX          10.0  \n",
       "6         0.0    $24.4           0.0          0.0  GFNSL           3.0  \n",
       "7   2816846.0   $98.02          27.0     710296.0   SINA          72.0  \n",
       "8         0.0      NaN           0.0          0.0  HRMNW           0.0  \n",
       "9   1312169.0    $16.3          43.0    2508992.0   VECO          48.0  "
      ]
     },
     "execution_count": 6,
     "metadata": {},
     "output_type": "execute_result"
    }
   ],
   "source": [
    "data = []\n",
    "for symbol in symbols:\n",
    "    symbol_data = get_data_from_cache(symbol)\n",
    "    if symbol_data:\n",
    "        symbol_data[\"symbol\"] = symbol\n",
    "        data.append(symbol_data)\n",
    "df = pd.DataFrame.from_records(data)\n",
    "df[:10]"
   ]
  },
  {
   "cell_type": "code",
   "execution_count": 7,
   "metadata": {},
   "outputs": [
    {
     "data": {
      "text/html": [
       "<table><tr><th>Symbol</th><th>Price</th></tr><tr><td>FEP</td><td>$38.17</td></tr><tr><td>GRVY</td><td>$64.82</td></tr><tr><td>MGPI</td><td>$73.62</td></tr><tr><td>LOCO</td><td>$9.725</td></tr><tr><td>FSFG</td><td>$57.302</td></tr><tr><td>CETX</td><td>$2.73</td></tr><tr><td>GFNSL</td><td>$24.4</td></tr><tr><td>SINA</td><td>$98.02</td></tr><tr><td>HRMNW</td><td>nan</td></tr><tr><td>VECO</td><td>$16.3</td></tr></table>"
      ],
      "text/plain": [
       "<IPython.core.display.HTML object>"
      ]
     },
     "metadata": {},
     "output_type": "display_data"
    }
   ],
   "source": [
    "def draw_table(sub_df, headers, fields):\n",
    "    s = \"<table><tr><th>\" + \"</th><th>\".join(headers) + \"</th></tr>\"\n",
    "    for r in sub_df.itertuples():\n",
    "        s += \"<tr><td>\" + \"</td><td>\".join(str(getattr(r, f)) for f in fields) + \"</td></tr>\"\n",
    "    s += \"</table>\"\n",
    "    display(HTML(s))\n",
    "    \n",
    "draw_table(df[:10], (\"Symbol\", \"Price\"), (\"symbol\", \"price\"))"
   ]
  },
  {
   "cell_type": "code",
   "execution_count": 8,
   "metadata": {
    "scrolled": true
   },
   "outputs": [
    {
     "data": {
      "text/html": [
       "<h3>Top 100 stocks by Active Bullish Activity By Number of Funds((Increased – Decreased)/Held)</h3>"
      ],
      "text/plain": [
       "<IPython.core.display.HTML object>"
      ]
     },
     "metadata": {},
     "output_type": "display_data"
    },
    {
     "data": {
      "text/html": [
       "<table><tr><th>Stock</th><th>Share price</th><th>Inst.Ownership</th><th>Increased</th><th>Decreased</th><th>Held</th><th>Ratio</th></tr><tr><td>GOODM</td><td>$26.01</td><td>05.79%</td><td>1.0</td><td>0.0</td><td>0.0</td><td>inf</td></tr><tr><td>IMRNW</td><td>$1.4</td><td>0%</td><td>2.0</td><td>0.0</td><td>0.0</td><td>inf</td></tr><tr><td>MBSD</td><td>$23.84</td><td>70.79%</td><td>8.0</td><td>6.0</td><td>0.0</td><td>inf</td></tr><tr><td>MOXC</td><td>$2.47</td><td>00.02%</td><td>2.0</td><td>0.0</td><td>0.0</td><td>inf</td></tr><tr><td>CPTAG</td><td>$24.9</td><td>10.41%</td><td>4.0</td><td>0.0</td><td>0.0</td><td>inf</td></tr><tr><td>FMCIU</td><td>$10.1508</td><td>0%</td><td>14.0</td><td>2.0</td><td>0.0</td><td>inf</td></tr><tr><td>RFEM</td><td>$69.393</td><td>47.43%</td><td>19.0</td><td>4.0</td><td>0.0</td><td>inf</td></tr><tr><td>FRSX</td><td>$5.53</td><td>00.12%</td><td>1.0</td><td>0.0</td><td>0.0</td><td>inf</td></tr><tr><td>ANGI</td><td>$12.02</td><td>00.08%</td><td>1.0</td><td>0.0</td><td>0.0</td><td>inf</td></tr><tr><td>MPAC</td><td>$9.74</td><td>43.49%</td><td>20.0</td><td>0.0</td><td>0.0</td><td>inf</td></tr><tr><td>MPACW</td><td>$0.42</td><td>0%</td><td>15.0</td><td>0.0</td><td>0.0</td><td>inf</td></tr><tr><td>JSMD</td><td>$36.8675</td><td>58.04%</td><td>7.0</td><td>3.0</td><td>0.0</td><td>inf</td></tr><tr><td>IBKCP</td><td>$27.7</td><td>00.13%</td><td>1.0</td><td>0.0</td><td>0.0</td><td>inf</td></tr><tr><td>TVIZ</td><td>$11.19</td><td>63.58%</td><td>4.0</td><td>2.0</td><td>0.0</td><td>inf</td></tr><tr><td>SRUNW</td><td>$1.75</td><td>0%</td><td>22.0</td><td>0.0</td><td>0.0</td><td>inf</td></tr><tr><td>FORK</td><td>$4.9</td><td>00.12%</td><td>2.0</td><td>0.0</td><td>0.0</td><td>inf</td></tr><tr><td>RFEU</td><td>$64.9</td><td>70.72%</td><td>25.0</td><td>3.0</td><td>0.0</td><td>inf</td></tr><tr><td>CATH</td><td>$32.06</td><td>26.91%</td><td>8.0</td><td>6.0</td><td>0.0</td><td>inf</td></tr><tr><td>CACG</td><td>$26.8594</td><td>50.76%</td><td>11.0</td><td>1.0</td><td>0.0</td><td>inf</td></tr><tr><td>DWAC</td><td>$24.8932</td><td>46.07%</td><td>4.0</td><td>2.0</td><td>0.0</td><td>inf</td></tr><tr><td>FALN</td><td>$27.6101</td><td>44.12%</td><td>4.0</td><td>3.0</td><td>0.0</td><td>inf</td></tr><tr><td>IOTS</td><td>$7.65</td><td>35.08%</td><td>19.0</td><td>6.0</td><td>0.0</td><td>inf</td></tr><tr><td>SMCP</td><td>$23.99</td><td>96.11%</td><td>4.0</td><td>3.0</td><td>0.0</td><td>inf</td></tr><tr><td>NUROW</td><td>$0.0301</td><td>0%</td><td>2.0</td><td>1.0</td><td>0.0</td><td>inf</td></tr><tr><td>LRGE</td><td>$27.8973</td><td>08.09%</td><td>1.0</td><td>0.0</td><td>0.0</td><td>inf</td></tr><tr><td>SRUN</td><td>$10.01</td><td>40.87%</td><td>34.0</td><td>2.0</td><td>0.0</td><td>inf</td></tr><tr><td>CSML</td><td>$27.0898</td><td>50.78%</td><td>13.0</td><td>0.0</td><td>0.0</td><td>inf</td></tr><tr><td>BMLP</td><td>$47</td><td>0%</td><td>4.0</td><td>1.0</td><td>0.0</td><td>inf</td></tr><tr><td>RILYZ</td><td>$25.64</td><td>05.10%</td><td>3.0</td><td>0.0</td><td>0.0</td><td>inf</td></tr><tr><td>QLC</td><td>$31.99</td><td>19.15%</td><td>1.0</td><td>0.0</td><td>0.0</td><td>inf</td></tr><tr><td>LGCYO</td><td>$5.925</td><td>03.51%</td><td>1.0</td><td>0.0</td><td>0.0</td><td>inf</td></tr><tr><td>FTXD</td><td>$19.685</td><td>55.60%</td><td>2.0</td><td>0.0</td><td>0.0</td><td>inf</td></tr><tr><td>IMRN</td><td>$5.8199</td><td>00.34%</td><td>2.0</td><td>0.0</td><td>0.0</td><td>inf</td></tr><tr><td>SQZZ</td><td>$25</td><td>00.80%</td><td>1.0</td><td>0.0</td><td>0.0</td><td>inf</td></tr><tr><td>CEZ</td><td>$29.487</td><td>44.33%</td><td>7.0</td><td>5.0</td><td>0.0</td><td>inf</td></tr><tr><td>SPKEP</td><td>$27.028</td><td>00.52%</td><td>1.0</td><td>0.0</td><td>0.0</td><td>inf</td></tr><tr><td>ESGU</td><td>$56.75</td><td>41.33%</td><td>4.0</td><td>1.0</td><td>0.0</td><td>inf</td></tr><tr><td>LMFA</td><td>$2.03</td><td>05.23%</td><td>2.0</td><td>1.0</td><td>0.0</td><td>inf</td></tr><tr><td>VIIX</td><td>$14.1</td><td>38.46%</td><td>10.0</td><td>5.0</td><td>0.0</td><td>inf</td></tr><tr><td>ORIG</td><td>$27.6</td><td>00.14%</td><td>1.0</td><td>0.0</td><td>0.0</td><td>inf</td></tr><tr><td>OLD</td><td>$24.85</td><td>41.86%</td><td>4.0</td><td>1.0</td><td>0.0</td><td>inf</td></tr><tr><td>URGN</td><td>$35.83</td><td>40.53%</td><td>23.0</td><td>2.0</td><td>0.0</td><td>inf</td></tr><tr><td>MMDMW</td><td>$0.54</td><td>0%</td><td>12.0</td><td>0.0</td><td>0.0</td><td>inf</td></tr><tr><td>FPXI</td><td>$34.88</td><td>20.58%</td><td>10.0</td><td>4.0</td><td>0.0</td><td>inf</td></tr><tr><td>MYSZ</td><td>$0.7547</td><td>00.70%</td><td>2.0</td><td>1.0</td><td>0.0</td><td>inf</td></tr><tr><td>ASV</td><td>$8.1301</td><td>42.56%</td><td>15.0</td><td>1.0</td><td>0.0</td><td>inf</td></tr><tr><td>NGHCN</td><td>$25.1379</td><td>02.60%</td><td>1.0</td><td>0.0</td><td>0.0</td><td>inf</td></tr><tr><td>FMCIW</td><td>$0.36</td><td>0%</td><td>11.0</td><td>0.0</td><td>0.0</td><td>inf</td></tr><tr><td>MMDMU</td><td>$10.45</td><td>0%</td><td>10.0</td><td>2.0</td><td>0.0</td><td>inf</td></tr><tr><td>YERR</td><td>$16.08</td><td>00.09%</td><td>5.0</td><td>0.0</td><td>0.0</td><td>inf</td></tr><tr><td>FMCIR</td><td>$0.35</td><td>0%</td><td>13.0</td><td>0.0</td><td>0.0</td><td>inf</td></tr><tr><td>VRNA</td><td>$13.8</td><td>34.33%</td><td>9.0</td><td>0.0</td><td>0.0</td><td>inf</td></tr><tr><td>SNDE</td><td>$5.16</td><td>00.30%</td><td>4.0</td><td>3.0</td><td>0.0</td><td>inf</td></tr><tr><td>KBLMU</td><td>$10.13</td><td>0%</td><td>16.0</td><td>2.0</td><td>0.0</td><td>inf</td></tr><tr><td>FTXN</td><td>$19.8812</td><td>47.36%</td><td>3.0</td><td>0.0</td><td>0.0</td><td>inf</td></tr><tr><td>OASM</td><td>$0.988</td><td>00.50%</td><td>3.0</td><td>1.0</td><td>0.0</td><td>inf</td></tr><tr><td>SSNT</td><td>$4.14</td><td>04.91%</td><td>7.0</td><td>0.0</td><td>0.0</td><td>inf</td></tr><tr><td>IFMK</td><td>$11.5</td><td>00.42%</td><td>4.0</td><td>3.0</td><td>0.0</td><td>inf</td></tr><tr><td>CLWT</td><td>$3.7</td><td>00.35%</td><td>2.0</td><td>1.0</td><td>0.0</td><td>inf</td></tr><tr><td>APWC</td><td>$2.9</td><td>00.38%</td><td>3.0</td><td>0.0</td><td>0.0</td><td>inf</td></tr><tr><td>KAAC</td><td>$9.71</td><td>40.29%</td><td>20.0</td><td>0.0</td><td>0.0</td><td>inf</td></tr><tr><td>MSDIW</td><td>$0.0311</td><td>0%</td><td>1.0</td><td>0.0</td><td>0.0</td><td>inf</td></tr><tr><td>CHSCM</td><td>$27.0901</td><td>00.07%</td><td>1.0</td><td>0.0</td><td>0.0</td><td>inf</td></tr><tr><td>VEACW</td><td>$1.19</td><td>0%</td><td>10.0</td><td>1.0</td><td>0.0</td><td>inf</td></tr><tr><td>CCRC</td><td>$13.44</td><td>00.73%</td><td>8.0</td><td>5.0</td><td>0.0</td><td>inf</td></tr><tr><td>USOI</td><td>$25.63</td><td>0%</td><td>2.0</td><td>0.0</td><td>0.0</td><td>inf</td></tr><tr><td>MMDMR</td><td>$0.4</td><td>0%</td><td>18.0</td><td>0.0</td><td>0.0</td><td>inf</td></tr><tr><td>CCCR</td><td>$3.225</td><td>00.78%</td><td>4.0</td><td>2.0</td><td>0.0</td><td>inf</td></tr><tr><td>FMCI</td><td>$9.71</td><td>50.72%</td><td>17.0</td><td>1.0</td><td>0.0</td><td>inf</td></tr><tr><td>CID</td><td>$35.75</td><td>54.45%</td><td>7.0</td><td>5.0</td><td>0.0</td><td>inf</td></tr><tr><td>TERP</td><td>$12.895</td><td>00.07%</td><td>1.0</td><td>0.0</td><td>0.0</td><td>inf</td></tr><tr><td>CFBI</td><td>$12.99</td><td>01.70%</td><td>8.0</td><td>3.0</td><td>0.0</td><td>inf</td></tr><tr><td>CDL</td><td>$43.87</td><td>38.39%</td><td>10.0</td><td>8.0</td><td>0.0</td><td>inf</td></tr><tr><td>BZUN</td><td>$32.43</td><td>12.69%</td><td>82.0</td><td>32.0</td><td>1.0</td><td>50.0</td></tr><tr><td>ICHR</td><td>$30.85</td><td>87.70%</td><td>77.0</td><td>34.0</td><td>1.0</td><td>43.0</td></tr><tr><td>APPN</td><td>$23.36</td><td>96.33%</td><td>40.0</td><td>2.0</td><td>1.0</td><td>38.0</td></tr><tr><td>NCSM</td><td>$21.04</td><td>95.25%</td><td>63.0</td><td>2.0</td><td>2.0</td><td>30.5</td></tr><tr><td>SGH</td><td>$30.85</td><td>29.34%</td><td>30.0</td><td>1.0</td><td>1.0</td><td>29.0</td></tr><tr><td>ARGX</td><td>$23.05</td><td>24.69%</td><td>30.0</td><td>2.0</td><td>1.0</td><td>28.0</td></tr><tr><td>GTHX</td><td>$23.78</td><td>35.27%</td><td>28.0</td><td>1.0</td><td>1.0</td><td>27.0</td></tr><tr><td>RFDI</td><td>$63.9871</td><td>43.39%</td><td>33.0</td><td>6.0</td><td>1.0</td><td>27.0</td></tr><tr><td>NESR</td><td>$9.75</td><td>40.57%</td><td>26.0</td><td>0.0</td><td>1.0</td><td>26.0</td></tr><tr><td>PCSB</td><td>$19.07</td><td>34.80%</td><td>53.0</td><td>5.0</td><td>2.0</td><td>24.0</td></tr><tr><td>VEACU</td><td>$10.25</td><td>62.98%</td><td>24.0</td><td>2.0</td><td>1.0</td><td>22.0</td></tr><tr><td>VEAC</td><td>$9.74</td><td>42.30%</td><td>21.0</td><td>0.0</td><td>1.0</td><td>21.0</td></tr><tr><td>PLYA</td><td>$10.75</td><td>87.28%</td><td>60.0</td><td>40.0</td><td>1.0</td><td>20.0</td></tr><tr><td>MMDM</td><td>$9.78</td><td>50.19%</td><td>21.0</td><td>2.0</td><td>1.0</td><td>19.0</td></tr><tr><td>NESRW</td><td>$0.55</td><td>0%</td><td>19.0</td><td>0.0</td><td>1.0</td><td>19.0</td></tr><tr><td>OKTA</td><td>$28.7622</td><td>63.85%</td><td>81.0</td><td>6.0</td><td>4.0</td><td>18.75</td></tr><tr><td>CFCO</td><td>$10.13</td><td>71.17%</td><td>51.0</td><td>17.0</td><td>2.0</td><td>17.0</td></tr><tr><td>ATNX</td><td>$16.4099</td><td>01.28%</td><td>17.0</td><td>0.0</td><td>1.0</td><td>17.0</td></tr><tr><td>CIBR</td><td>$21.9632</td><td>25.88%</td><td>42.0</td><td>8.0</td><td>2.0</td><td>17.0</td></tr><tr><td>NBEV</td><td>$2.32</td><td>14.04%</td><td>26.0</td><td>10.0</td><td>1.0</td><td>16.0</td></tr><tr><td>KAACW</td><td>$0.83</td><td>0%</td><td>14.0</td><td>0.0</td><td>1.0</td><td>14.0</td></tr><tr><td>VERI</td><td>$31.2497</td><td>08.37%</td><td>30.0</td><td>4.0</td><td>2.0</td><td>13.0</td></tr><tr><td>SSTI</td><td>$16.82</td><td>21.74%</td><td>16.0</td><td>3.0</td><td>1.0</td><td>13.0</td></tr><tr><td>BOMN</td><td>$18.3</td><td>65.46%</td><td>13.0</td><td>0.0</td><td>1.0</td><td>13.0</td></tr><tr><td>UPL</td><td>$8.475</td><td>86.93%</td><td>129.0</td><td>13.0</td><td>9.0</td><td>12.8888888889</td></tr><tr><td>LMBS</td><td>$51.98</td><td>43.03%</td><td>59.0</td><td>21.0</td><td>3.0</td><td>12.6666666667</td></tr><tr><td>IRTC</td><td>$51.5</td><td>94.76%</td><td>83.0</td><td>22.0</td><td>5.0</td><td>12.2</td></tr></table>"
      ],
      "text/plain": [
       "<IPython.core.display.HTML object>"
      ]
     },
     "metadata": {},
     "output_type": "display_data"
    }
   ],
   "source": [
    "df[\"ratio\"] = (df.increased_holders - df.decreased_holders) / df.held_holders\n",
    "df.sort_values(\"ratio\", ascending=False, inplace=True)\n",
    "display(HTML(\"<h3>Top 100 stocks by Active Bullish Activity By Number of Funds((Increased – Decreased)/Held)</h3>\"))\n",
    "\n",
    "draw_table(\n",
    "    df[:100], \n",
    "    (\"Stock\", \"Share price\", \"Inst.Ownership\", \"Increased\", \"Decreased\", \"Held\", \"Ratio\"),\n",
    "    (\"symbol\", \"price\", \"institutional_ownership\", \"increased_holders\", \"decreased_holders\", \"held_holders\", \"ratio\")\n",
    ")"
   ]
  },
  {
   "cell_type": "code",
   "execution_count": 9,
   "metadata": {},
   "outputs": [
    {
     "data": {
      "text/html": [
       "<h3>Top 100 stocks by Active Bullish Activity By Shares (Increased / Decreased)</h3>"
      ],
      "text/plain": [
       "<IPython.core.display.HTML object>"
      ]
     },
     "metadata": {},
     "output_type": "display_data"
    },
    {
     "data": {
      "text/html": [
       "<table><tr><th>Stock</th><th>Share price</th><th>Inst.Ownership</th><th>Increased</th><th>Decreased</th><th>Held</th><th>Ratio</th></tr><tr><td>GOODM</td><td>$26.01</td><td>05.79%</td><td>42553.0</td><td>0.0</td><td>152365.0</td><td>inf</td></tr><tr><td>APWC</td><td>$2.9</td><td>00.38%</td><td>33770.0</td><td>0.0</td><td>18675.0</td><td>inf</td></tr><tr><td>PAVMW</td><td>$1.5</td><td>0%</td><td>3500.0</td><td>0.0</td><td>19444.0</td><td>inf</td></tr><tr><td>MACQW</td><td>$0.4793</td><td>0%</td><td>153150.0</td><td>0.0</td><td>1779533.0</td><td>inf</td></tr><tr><td>MMDMR</td><td>$0.4</td><td>0%</td><td>12187496.0</td><td>0.0</td><td>0.0</td><td>inf</td></tr><tr><td>USOI</td><td>$25.63</td><td>0%</td><td>265885.0</td><td>0.0</td><td>0.0</td><td>inf</td></tr><tr><td>DTUL</td><td>$64.71</td><td>22.24%</td><td>10800.0</td><td>0.0</td><td>3881.0</td><td>inf</td></tr><tr><td>EDBI</td><td>$32.66</td><td>76.28%</td><td>296381.0</td><td>0.0</td><td>85043.0</td><td>inf</td></tr><tr><td>CHSCM</td><td>$27.0901</td><td>00.07%</td><td>101.0</td><td>0.0</td><td>12828.0</td><td>inf</td></tr><tr><td>MSDIW</td><td>$0.0311</td><td>0%</td><td>452.0</td><td>0.0</td><td>255.0</td><td>inf</td></tr><tr><td>KAAC</td><td>$9.71</td><td>40.29%</td><td>14165759.0</td><td>0.0</td><td>1036990.0</td><td>inf</td></tr><tr><td>JSYNU</td><td>$10.76</td><td>15.96%</td><td>20900.0</td><td>0.0</td><td>601409.0</td><td>inf</td></tr><tr><td>NGHCN</td><td>$25.1379</td><td>02.60%</td><td>20614.0</td><td>0.0</td><td>187287.0</td><td>inf</td></tr><tr><td>CHSCO</td><td>$28.8</td><td>00.16%</td><td>5050.0</td><td>0.0</td><td>27438.0</td><td>inf</td></tr><tr><td>SSNT</td><td>$4.14</td><td>04.91%</td><td>220352.0</td><td>0.0</td><td>0.0</td><td>inf</td></tr><tr><td>HBANN</td><td>$25.8385</td><td>00.43%</td><td>130.0</td><td>0.0</td><td>16977.0</td><td>inf</td></tr><tr><td>FTXN</td><td>$19.8812</td><td>47.36%</td><td>89223.0</td><td>0.0</td><td>5500.0</td><td>inf</td></tr><tr><td>TATT</td><td>$11</td><td>02.93%</td><td>101321.0</td><td>0.0</td><td>157671.0</td><td>inf</td></tr><tr><td>JSYNR</td><td>$0.2876</td><td>0%</td><td>500.0</td><td>0.0</td><td>934747.0</td><td>inf</td></tr><tr><td>VRNA</td><td>$13.8</td><td>34.33%</td><td>3840497.0</td><td>0.0</td><td>666666.0</td><td>inf</td></tr><tr><td>FMCIR</td><td>$0.35</td><td>0%</td><td>9266127.0</td><td>0.0</td><td>181800.0</td><td>inf</td></tr><tr><td>CLRBW</td><td>$0.147</td><td>0%</td><td>106620.0</td><td>0.0</td><td>53869.0</td><td>inf</td></tr><tr><td>TERP</td><td>$12.895</td><td>00.07%</td><td>102019.0</td><td>0.0</td><td>0.0</td><td>inf</td></tr><tr><td>SLNOW</td><td>$0.17</td><td>0%</td><td>768933.0</td><td>0.0</td><td>200218.0</td><td>inf</td></tr><tr><td>BPFHW</td><td>$10</td><td>0%</td><td>31614.0</td><td>0.0</td><td>1738499.0</td><td>inf</td></tr><tr><td>VSDA</td><td>$26.6864</td><td>12.61%</td><td>33932.0</td><td>0.0</td><td>3903.0</td><td>inf</td></tr><tr><td>BOMN</td><td>$18.3</td><td>65.46%</td><td>1356334.0</td><td>0.0</td><td>7355161.0</td><td>inf</td></tr><tr><td>ITEQ</td><td>$32.025</td><td>18.75%</td><td>136866.0</td><td>0.0</td><td>22519.0</td><td>inf</td></tr><tr><td>KAACW</td><td>$0.83</td><td>0%</td><td>3720486.0</td><td>0.0</td><td>272700.0</td><td>inf</td></tr><tr><td>DSLV</td><td>$23.981</td><td>54.86%</td><td>448190.0</td><td>0.0</td><td>300001.0</td><td>inf</td></tr><tr><td>DFNL</td><td>$23.24</td><td>65.06%</td><td>1377876.0</td><td>0.0</td><td>1159342.0</td><td>inf</td></tr><tr><td>ATNX</td><td>$16.4099</td><td>01.28%</td><td>650167.0</td><td>0.0</td><td>82504.0</td><td>inf</td></tr><tr><td>JCTCF</td><td>$15.75</td><td>13.03%</td><td>6124.0</td><td>0.0</td><td>286543.0</td><td>inf</td></tr><tr><td>LVNTB</td><td>$59.88</td><td>00.63%</td><td>601.0</td><td>0.0</td><td>26013.0</td><td>inf</td></tr><tr><td>NESRW</td><td>$0.55</td><td>0%</td><td>8512591.0</td><td>0.0</td><td>126000.0</td><td>inf</td></tr><tr><td>PSC</td><td>$30.479</td><td>191.39%</td><td>27834.0</td><td>0.0</td><td>18250000.0</td><td>inf</td></tr><tr><td>HUNT</td><td>$9.82</td><td>61.51%</td><td>7516598.0</td><td>0.0</td><td>1816760.0</td><td>inf</td></tr><tr><td>VEAC</td><td>$9.74</td><td>42.30%</td><td>22500365.0</td><td>0.0</td><td>847133.0</td><td>inf</td></tr><tr><td>LEXEB</td><td>$55</td><td>00.46%</td><td>218.0</td><td>0.0</td><td>12838.0</td><td>inf</td></tr><tr><td>SOHOB</td><td>$25.22</td><td>06.86%</td><td>9281.0</td><td>0.0</td><td>101190.0</td><td>inf</td></tr><tr><td>NESR</td><td>$9.75</td><td>40.57%</td><td>11240417.0</td><td>0.0</td><td>384400.0</td><td>inf</td></tr><tr><td>TCBIP</td><td>$25.74</td><td>00.04%</td><td>2002.0</td><td>0.0</td><td>400.0</td><td>inf</td></tr><tr><td>BHACU</td><td>$8.52</td><td>02.42%</td><td>5400.0</td><td>0.0</td><td>122500.0</td><td>inf</td></tr><tr><td>NNDM</td><td>$4.34</td><td>00.55%</td><td>18320.0</td><td>0.0</td><td>50206.0</td><td>inf</td></tr><tr><td>XTLB</td><td>$2.4</td><td>00.95%</td><td>12089.0</td><td>0.0</td><td>36841.0</td><td>inf</td></tr><tr><td>FMCIW</td><td>$0.36</td><td>0%</td><td>3646725.0</td><td>0.0</td><td>80800.0</td><td>inf</td></tr><tr><td>YERR</td><td>$16.08</td><td>00.09%</td><td>161722.0</td><td>0.0</td><td>0.0</td><td>inf</td></tr><tr><td>FINX</td><td>$21.64</td><td>03.26%</td><td>33849.0</td><td>0.0</td><td>10156.0</td><td>inf</td></tr><tr><td>IBKCP</td><td>$27.7</td><td>00.13%</td><td>2222.0</td><td>0.0</td><td>1621.0</td><td>inf</td></tr><tr><td>CERCW</td><td>$0.0367</td><td>0%</td><td>107292.0</td><td>0.0</td><td>353000.0</td><td>inf</td></tr><tr><td>AGNCB</td><td>$26.28</td><td>04.94%</td><td>36661.0</td><td>0.0</td><td>309331.0</td><td>inf</td></tr><tr><td>ORG</td><td>$31.93</td><td>43.80%</td><td>173631.0</td><td>0.0</td><td>1554.0</td><td>inf</td></tr><tr><td>BFIT</td><td>$16.33</td><td>92.57%</td><td>46530.0</td><td>0.0</td><td>92328.0</td><td>inf</td></tr><tr><td>OTTW</td><td>$13.9896</td><td>14.57%</td><td>72647.0</td><td>0.0</td><td>432417.0</td><td>inf</td></tr><tr><td>GPACU</td><td>$10.8642</td><td>09.02%</td><td>35200.0</td><td>0.0</td><td>1364800.0</td><td>inf</td></tr><tr><td>FORK</td><td>$4.9</td><td>00.12%</td><td>5036.0</td><td>0.0</td><td>13471.0</td><td>inf</td></tr><tr><td>SRUNW</td><td>$1.75</td><td>0%</td><td>8702593.0</td><td>0.0</td><td>268201.0</td><td>inf</td></tr><tr><td>RDIB</td><td>$22</td><td>07.12%</td><td>10276.0</td><td>0.0</td><td>109316.0</td><td>inf</td></tr><tr><td>CNTF</td><td>$2.16</td><td>00.02%</td><td>20343.0</td><td>0.0</td><td>125728.0</td><td>inf</td></tr><tr><td>LRGE</td><td>$27.8973</td><td>08.09%</td><td>8092.0</td><td>0.0</td><td>0.0</td><td>inf</td></tr><tr><td>MPACW</td><td>$0.42</td><td>0%</td><td>9017274.0</td><td>0.0</td><td>489000.0</td><td>inf</td></tr><tr><td>MPAC</td><td>$9.74</td><td>43.49%</td><td>13296765.0</td><td>0.0</td><td>839000.0</td><td>inf</td></tr><tr><td>ANGI</td><td>$12.02</td><td>00.08%</td><td>46952.0</td><td>0.0</td><td>0.0</td><td>inf</td></tr><tr><td>FRSX</td><td>$5.53</td><td>00.12%</td><td>22857.0</td><td>0.0</td><td>0.0</td><td>inf</td></tr><tr><td>SBNYW</td><td>$96.07</td><td>0%</td><td>112.0</td><td>0.0</td><td>43309.0</td><td>inf</td></tr><tr><td>CPAH</td><td>$2.6915</td><td>05.64%</td><td>14377.0</td><td>0.0</td><td>294910.0</td><td>inf</td></tr><tr><td>CPTAG</td><td>$24.9</td><td>10.41%</td><td>208182.0</td><td>0.0</td><td>0.0</td><td>inf</td></tr><tr><td>MOXC</td><td>$2.47</td><td>00.02%</td><td>15285.0</td><td>0.0</td><td>0.0</td><td>inf</td></tr><tr><td>DISCB</td><td>$22</td><td>00.16%</td><td>90.0</td><td>0.0</td><td>10052.0</td><td>inf</td></tr><tr><td>MDGS</td><td>$2.1</td><td>39.31%</td><td>287033.0</td><td>0.0</td><td>60000.0</td><td>inf</td></tr><tr><td>OXBRW</td><td>$0.4</td><td>0%</td><td>20580.0</td><td>0.0</td><td>40658.0</td><td>inf</td></tr><tr><td>SQZZ</td><td>$25</td><td>00.80%</td><td>200.0</td><td>0.0</td><td>0.0</td><td>inf</td></tr><tr><td>QLC</td><td>$31.99</td><td>19.15%</td><td>3139.0</td><td>0.0</td><td>159615.0</td><td>inf</td></tr><tr><td>SPKEP</td><td>$27.028</td><td>00.52%</td><td>8850.0</td><td>0.0</td><td>0.0</td><td>inf</td></tr><tr><td>CADC</td><td>$1.7035</td><td>01.95%</td><td>17904.0</td><td>0.0</td><td>28701.0</td><td>inf</td></tr><tr><td>SRTSW</td><td>$1.89</td><td>0%</td><td>231256.0</td><td>0.0</td><td>964095.0</td><td>inf</td></tr><tr><td>IMRN</td><td>$5.8199</td><td>00.34%</td><td>11207.0</td><td>0.0</td><td>0.0</td><td>inf</td></tr><tr><td>FTXD</td><td>$19.685</td><td>55.60%</td><td>14728.0</td><td>0.0</td><td>13072.0</td><td>inf</td></tr><tr><td>LGCYO</td><td>$5.925</td><td>03.51%</td><td>54338.0</td><td>0.0</td><td>198554.0</td><td>inf</td></tr><tr><td>ORIG</td><td>$27.6</td><td>00.14%</td><td>130654.0</td><td>0.0</td><td>0.0</td><td>inf</td></tr><tr><td>DWLV</td><td>$30.62</td><td>98.24%</td><td>5240.0</td><td>0.0</td><td>142115.0</td><td>inf</td></tr><tr><td>WTFCM</td><td>$28.21</td><td>00.97%</td><td>14.0</td><td>0.0</td><td>48280.0</td><td>inf</td></tr><tr><td>RILYZ</td><td>$25.64</td><td>05.10%</td><td>107147.0</td><td>0.0</td><td>0.0</td><td>inf</td></tr><tr><td>MMDMW</td><td>$0.54</td><td>0%</td><td>5659149.0</td><td>0.0</td><td>0.0</td><td>inf</td></tr><tr><td>WYIGW</td><td>$0.4478</td><td>0%</td><td>61828.0</td><td>0.0</td><td>358229.0</td><td>inf</td></tr><tr><td>BPFHP</td><td>$25.72</td><td>00.14%</td><td>17906.0</td><td>0.0</td><td>96738.0</td><td>inf</td></tr><tr><td>CSML</td><td>$27.0898</td><td>50.78%</td><td>2197779.0</td><td>0.0</td><td>2474018.0</td><td>inf</td></tr><tr><td>IMRNW</td><td>$1.4</td><td>0%</td><td>35213.0</td><td>0.0</td><td>0.0</td><td>inf</td></tr><tr><td>CELH</td><td>$5.24</td><td>02.34%</td><td>1042690.0</td><td>1.0</td><td>16664.0</td><td>1042690.0</td></tr><tr><td>NCSM</td><td>$21.04</td><td>95.25%</td><td>40947272.0</td><td>457.0</td><td>538190.0</td><td>89600.1575492</td></tr><tr><td>SNHNL</td><td>$27.1334</td><td>01.62%</td><td>55975.0</td><td>2.0</td><td>106066.0</td><td>27987.5</td></tr><tr><td>CGBD</td><td>$18.22</td><td>07.92%</td><td>4224632.0</td><td>155.0</td><td>675801.0</td><td>27255.6903226</td></tr><tr><td>OLD</td><td>$24.85</td><td>41.86%</td><td>125546.0</td><td>10.0</td><td>41872.0</td><td>12554.6</td></tr><tr><td>GTHX</td><td>$23.78</td><td>35.27%</td><td>8611690.0</td><td>770.0</td><td>1363422.0</td><td>11184.012987</td></tr><tr><td>VRIG</td><td>$25.26</td><td>34.31%</td><td>714788.0</td><td>96.0</td><td>1052270.0</td><td>7445.70833333</td></tr><tr><td>FMCI</td><td>$9.71</td><td>50.72%</td><td>8849088.0</td><td>1250.0</td><td>301750.0</td><td>7079.2704</td></tr><tr><td>ARGX</td><td>$23.05</td><td>24.69%</td><td>6514547.0</td><td>2166.0</td><td>122810.0</td><td>3007.63942752</td></tr><tr><td>EQFN</td><td>$10.1</td><td>25.87%</td><td>8744.0</td><td>3.0</td><td>862633.0</td><td>2914.66666667</td></tr><tr><td>TOCA</td><td>$11.04</td><td>37.86%</td><td>7374560.0</td><td>3701.0</td><td>122088.0</td><td>1992.58578762</td></tr><tr><td>CACG</td><td>$26.8594</td><td>50.76%</td><td>710198.0</td><td>400.0</td><td>100.0</td><td>1775.495</td></tr></table>"
      ],
      "text/plain": [
       "<IPython.core.display.HTML object>"
      ]
     },
     "metadata": {},
     "output_type": "display_data"
    }
   ],
   "source": [
    "df[\"ratio\"] = df.increased_shares / df.decreased_shares\n",
    "df.sort_values(\"ratio\", ascending=False, inplace=True)\n",
    "display(HTML(\"<h3>Top 100 stocks by Active Bullish Activity By Shares (Increased / Decreased)</h3>\"))\n",
    "\n",
    "draw_table(\n",
    "    df[:100], \n",
    "    (\"Stock\", \"Share price\", \"Inst.Ownership\", \"Increased\", \"Decreased\", \"Held\", \"Ratio\"),\n",
    "    (\"symbol\", \"price\", \"institutional_ownership\", \"increased_shares\", \"decreased_shares\", \"held_shares\", \"ratio\")\n",
    ")"
   ]
  },
  {
   "cell_type": "code",
   "execution_count": 10,
   "metadata": {},
   "outputs": [
    {
     "data": {
      "text/html": [
       "<h3>Top 100 stocks by New Bullish Activity By Funds (New / Sold Out)</h3>"
      ],
      "text/plain": [
       "<IPython.core.display.HTML object>"
      ]
     },
     "metadata": {},
     "output_type": "display_data"
    },
    {
     "data": {
      "text/html": [
       "<table><tr><th>Stock</th><th>Share price</th><th>Inst.Ownership</th><th>New</th><th>Sold out</th><th>Ratio</th></tr><tr><td>MACQW</td><td>$0.4793</td><td>0%</td><td>2.0</td><td>0.0</td><td>inf</td></tr><tr><td>MIIIU</td><td>$10.52</td><td>19.60%</td><td>2.0</td><td>0.0</td><td>inf</td></tr><tr><td>HYXE</td><td>$51.65</td><td>89.83%</td><td>1.0</td><td>0.0</td><td>inf</td></tr><tr><td>INFR</td><td>$29.77</td><td>04.83%</td><td>2.0</td><td>0.0</td><td>inf</td></tr><tr><td>AAME</td><td>$3.6</td><td>05.06%</td><td>1.0</td><td>0.0</td><td>inf</td></tr><tr><td>QYLD</td><td>$24.4548</td><td>18.64%</td><td>4.0</td><td>0.0</td><td>inf</td></tr><tr><td>AETI</td><td>$1.5415</td><td>40.94%</td><td>2.0</td><td>0.0</td><td>inf</td></tr><tr><td>FCAP</td><td>$35.75</td><td>01.41%</td><td>1.0</td><td>0.0</td><td>inf</td></tr><tr><td>OCC</td><td>$2.45</td><td>12.27%</td><td>1.0</td><td>0.0</td><td>inf</td></tr><tr><td>VVPR</td><td>$3.1</td><td>02.72%</td><td>1.0</td><td>0.0</td><td>inf</td></tr><tr><td>CPHC</td><td>$12.825</td><td>29.67%</td><td>3.0</td><td>0.0</td><td>inf</td></tr><tr><td>SRUN</td><td>$10.01</td><td>40.87%</td><td>34.0</td><td>0.0</td><td>inf</td></tr><tr><td>FNBG</td><td>$33.92</td><td>19.70%</td><td>33.0</td><td>0.0</td><td>inf</td></tr><tr><td>EFAS</td><td>$18.04</td><td>71.15%</td><td>1.0</td><td>0.0</td><td>inf</td></tr><tr><td>NFEC</td><td>$0.9006</td><td>00.63%</td><td>1.0</td><td>0.0</td><td>inf</td></tr><tr><td>SCACW</td><td>$1.2</td><td>0%</td><td>2.0</td><td>0.0</td><td>inf</td></tr><tr><td>LNGR</td><td>$19.46</td><td>68.88%</td><td>2.0</td><td>0.0</td><td>inf</td></tr><tr><td>FTXG</td><td>$19.42</td><td>399.24%</td><td>1.0</td><td>0.0</td><td>inf</td></tr><tr><td>ATOM</td><td>$2.49</td><td>15.78%</td><td>2.0</td><td>0.0</td><td>inf</td></tr><tr><td>QRHC</td><td>$1.25</td><td>12.88%</td><td>2.0</td><td>0.0</td><td>inf</td></tr><tr><td>ESGU</td><td>$56.75</td><td>41.33%</td><td>3.0</td><td>0.0</td><td>inf</td></tr><tr><td>ANDAU</td><td>$12</td><td>17.20%</td><td>1.0</td><td>0.0</td><td>inf</td></tr><tr><td>PFIN</td><td>$7.35</td><td>15.68%</td><td>1.0</td><td>0.0</td><td>inf</td></tr><tr><td>FMAO</td><td>$37.75</td><td>08.15%</td><td>26.0</td><td>0.0</td><td>inf</td></tr><tr><td>SNGXW</td><td>$0.6</td><td>0%</td><td>1.0</td><td>0.0</td><td>inf</td></tr><tr><td>RFAP</td><td>$61.11</td><td>72.26%</td><td>3.0</td><td>0.0</td><td>inf</td></tr><tr><td>SWIN</td><td>$29.4299</td><td>32.08%</td><td>2.0</td><td>0.0</td><td>inf</td></tr><tr><td>ANDAW</td><td>$0.8</td><td>0%</td><td>1.0</td><td>0.0</td><td>inf</td></tr><tr><td>BCTF</td><td>$14.31</td><td>13.41%</td><td>3.0</td><td>0.0</td><td>inf</td></tr><tr><td>SGLBW</td><td>$0.45</td><td>0%</td><td>1.0</td><td>0.0</td><td>inf</td></tr><tr><td>ATAI</td><td>$4.59</td><td>00.31%</td><td>3.0</td><td>0.0</td><td>inf</td></tr><tr><td>ESGE</td><td>$71.99</td><td>25.63%</td><td>12.0</td><td>0.0</td><td>inf</td></tr><tr><td>MACQ</td><td>$10.15</td><td>42.75%</td><td>2.0</td><td>0.0</td><td>inf</td></tr><tr><td>ONSIZ</td><td>$0.05</td><td>0%</td><td>1.0</td><td>0.0</td><td>inf</td></tr><tr><td>OVID</td><td>$8.29</td><td>32.39%</td><td>36.0</td><td>0.0</td><td>inf</td></tr><tr><td>IRDMB</td><td>$380</td><td>33.95%</td><td>2.0</td><td>0.0</td><td>inf</td></tr><tr><td>MPB</td><td>$29.85</td><td>05.74%</td><td>2.0</td><td>0.0</td><td>inf</td></tr><tr><td>DVCR</td><td>$10.65</td><td>19.32%</td><td>2.0</td><td>0.0</td><td>inf</td></tr><tr><td>VTGN</td><td>$0.801</td><td>10.67%</td><td>4.0</td><td>0.0</td><td>inf</td></tr><tr><td>FEUZ</td><td>$43.33</td><td>19.29%</td><td>3.0</td><td>0.0</td><td>inf</td></tr><tr><td>IIN</td><td>$13.65</td><td>31.11%</td><td>1.0</td><td>0.0</td><td>inf</td></tr><tr><td>STLRU</td><td>$10.52</td><td>0%</td><td>1.0</td><td>0.0</td><td>inf</td></tr><tr><td>JSML</td><td>$35.73</td><td>29.61%</td><td>2.0</td><td>0.0</td><td>inf</td></tr><tr><td>FITBI</td><td>$28.93</td><td>01.14%</td><td>1.0</td><td>0.0</td><td>inf</td></tr><tr><td>JSYN</td><td>$10.34</td><td>48.25%</td><td>3.0</td><td>0.0</td><td>inf</td></tr><tr><td>JSYNW</td><td>$0.22</td><td>0%</td><td>2.0</td><td>0.0</td><td>inf</td></tr><tr><td>LCAHW</td><td>$0.71</td><td>0%</td><td>3.0</td><td>0.0</td><td>inf</td></tr><tr><td>FTRI</td><td>$12.22</td><td>19.66%</td><td>1.0</td><td>0.0</td><td>inf</td></tr><tr><td>MMDMU</td><td>$10.45</td><td>0%</td><td>10.0</td><td>0.0</td><td>inf</td></tr><tr><td>IIJI</td><td>$9.56</td><td>00.50%</td><td>2.0</td><td>0.0</td><td>inf</td></tr><tr><td>ONSIW</td><td>$0.05</td><td>0%</td><td>2.0</td><td>0.0</td><td>inf</td></tr><tr><td>MTSL</td><td>$1.95</td><td>03.61%</td><td>2.0</td><td>0.0</td><td>inf</td></tr><tr><td>NUROW</td><td>$0.0301</td><td>0%</td><td>2.0</td><td>0.0</td><td>inf</td></tr><tr><td>DTYS</td><td>$16.85</td><td>04.88%</td><td>3.0</td><td>0.0</td><td>inf</td></tr><tr><td>PATI</td><td>$18.85</td><td>37.79%</td><td>4.0</td><td>0.0</td><td>inf</td></tr><tr><td>NSEC</td><td>$14</td><td>02.63%</td><td>1.0</td><td>0.0</td><td>inf</td></tr><tr><td>TIL</td><td>$4.5001</td><td>00.02%</td><td>1.0</td><td>0.0</td><td>inf</td></tr><tr><td>OKTA</td><td>$28.7622</td><td>63.85%</td><td>73.0</td><td>0.0</td><td>inf</td></tr><tr><td>LINDW</td><td>$1.8</td><td>0%</td><td>2.0</td><td>0.0</td><td>inf</td></tr><tr><td>MBCN</td><td>$45.65</td><td>25.03%</td><td>18.0</td><td>0.0</td><td>inf</td></tr><tr><td>MMDMR</td><td>$0.4</td><td>0%</td><td>18.0</td><td>0.0</td><td>inf</td></tr><tr><td>NTEC</td><td>$7.45</td><td>07.23%</td><td>2.0</td><td>0.0</td><td>inf</td></tr><tr><td>CIL</td><td>$40.115</td><td>66.86%</td><td>1.0</td><td>0.0</td><td>inf</td></tr><tr><td>TAPR</td><td>$21.8599</td><td>01.53%</td><td>1.0</td><td>0.0</td><td>inf</td></tr><tr><td>ESGD</td><td>$67.293</td><td>50.15%</td><td>11.0</td><td>0.0</td><td>inf</td></tr><tr><td>GRVY</td><td>$64.82</td><td>04.78%</td><td>6.0</td><td>0.0</td><td>inf</td></tr><tr><td>LMFAW</td><td>$0.07</td><td>0%</td><td>1.0</td><td>0.0</td><td>inf</td></tr><tr><td>MGCD</td><td>$8.8</td><td>22.61%</td><td>1.0</td><td>0.0</td><td>inf</td></tr><tr><td>FORTY</td><td>$40.55</td><td>00.10%</td><td>1.0</td><td>0.0</td><td>inf</td></tr><tr><td>UCBA</td><td>$20.1757</td><td>24.13%</td><td>1.0</td><td>0.0</td><td>inf</td></tr><tr><td>PVBC</td><td>$25.8</td><td>17.75%</td><td>2.0</td><td>0.0</td><td>inf</td></tr><tr><td>FLAT</td><td>$61.28</td><td>39.24%</td><td>1.0</td><td>0.0</td><td>inf</td></tr><tr><td>GPAC</td><td>$10.08</td><td>83.87%</td><td>2.0</td><td>0.0</td><td>inf</td></tr><tr><td>AZRX</td><td>$3</td><td>05.99%</td><td>6.0</td><td>0.0</td><td>inf</td></tr><tr><td>BYSI</td><td>$35.1424</td><td>01.23%</td><td>3.0</td><td>0.0</td><td>inf</td></tr><tr><td>ZBIO</td><td>$12.34</td><td>28.72%</td><td>2.0</td><td>0.0</td><td>inf</td></tr><tr><td>OASM</td><td>$0.988</td><td>00.50%</td><td>1.0</td><td>0.0</td><td>inf</td></tr><tr><td>ARTW</td><td>$2.55</td><td>02.28%</td><td>1.0</td><td>0.0</td><td>inf</td></tr><tr><td>BNTCW</td><td>$0.42</td><td>0%</td><td>1.0</td><td>0.0</td><td>inf</td></tr><tr><td>TCBIP</td><td>$25.74</td><td>00.04%</td><td>1.0</td><td>0.0</td><td>inf</td></tr><tr><td>JCTCF</td><td>$15.75</td><td>13.03%</td><td>1.0</td><td>0.0</td><td>inf</td></tr><tr><td>NESRW</td><td>$0.55</td><td>0%</td><td>18.0</td><td>0.0</td><td>inf</td></tr><tr><td>PSC</td><td>$30.479</td><td>191.39%</td><td>1.0</td><td>0.0</td><td>inf</td></tr><tr><td>HUNT</td><td>$9.82</td><td>61.51%</td><td>15.0</td><td>0.0</td><td>inf</td></tr><tr><td>VEAC</td><td>$9.74</td><td>42.30%</td><td>19.0</td><td>0.0</td><td>inf</td></tr><tr><td>LEXEB</td><td>$55</td><td>00.46%</td><td>1.0</td><td>0.0</td><td>inf</td></tr><tr><td>NESR</td><td>$9.75</td><td>40.57%</td><td>22.0</td><td>0.0</td><td>inf</td></tr><tr><td>BHACU</td><td>$8.52</td><td>02.42%</td><td>1.0</td><td>0.0</td><td>inf</td></tr><tr><td>DFNL</td><td>$23.24</td><td>65.06%</td><td>6.0</td><td>0.0</td><td>inf</td></tr><tr><td>NNDM</td><td>$4.34</td><td>00.55%</td><td>2.0</td><td>0.0</td><td>inf</td></tr><tr><td>FMCIW</td><td>$0.36</td><td>0%</td><td>10.0</td><td>0.0</td><td>inf</td></tr><tr><td>YERR</td><td>$16.08</td><td>00.09%</td><td>5.0</td><td>0.0</td><td>inf</td></tr><tr><td>FINX</td><td>$21.64</td><td>03.26%</td><td>1.0</td><td>0.0</td><td>inf</td></tr><tr><td>CERCW</td><td>$0.0367</td><td>0%</td><td>1.0</td><td>0.0</td><td>inf</td></tr><tr><td>ORG</td><td>$31.93</td><td>43.80%</td><td>5.0</td><td>0.0</td><td>inf</td></tr><tr><td>BFIT</td><td>$16.33</td><td>92.57%</td><td>1.0</td><td>0.0</td><td>inf</td></tr><tr><td>ATNX</td><td>$16.4099</td><td>01.28%</td><td>15.0</td><td>0.0</td><td>inf</td></tr><tr><td>DSLV</td><td>$23.981</td><td>54.86%</td><td>7.0</td><td>0.0</td><td>inf</td></tr><tr><td>CBMXW</td><td>$2.4891</td><td>0%</td><td>1.0</td><td>0.0</td><td>inf</td></tr><tr><td>VRNA</td><td>$13.8</td><td>34.33%</td><td>8.0</td><td>0.0</td><td>inf</td></tr></table>"
      ],
      "text/plain": [
       "<IPython.core.display.HTML object>"
      ]
     },
     "metadata": {},
     "output_type": "display_data"
    }
   ],
   "source": [
    "df[\"ratio\"] = df.new_holders / df.sold_holders\n",
    "df.sort_values(\"ratio\", ascending=False, inplace=True)\n",
    "display(HTML(\"<h3>Top 100 stocks by New Bullish Activity By Funds (New / Sold Out)</h3>\"))\n",
    "\n",
    "draw_table(\n",
    "    df[:100], \n",
    "    (\"Stock\", \"Share price\", \"Inst.Ownership\", \"New\", \"Sold out\", \"Ratio\"),\n",
    "    (\"symbol\", \"price\", \"institutional_ownership\", \"new_holders\", \"sold_holders\", \"ratio\")\n",
    ")"
   ]
  },
  {
   "cell_type": "code",
   "execution_count": 11,
   "metadata": {
    "scrolled": true
   },
   "outputs": [
    {
     "data": {
      "text/html": [
       "<h3>Top 100 stocks by New Bullish Activity By Shares (New / Sold Out)</h3>"
      ],
      "text/plain": [
       "<IPython.core.display.HTML object>"
      ]
     },
     "metadata": {},
     "output_type": "display_data"
    },
    {
     "data": {
      "text/html": [
       "<table><tr><th>Stock</th><th>Share price</th><th>Inst.Ownership</th><th>New</th><th>Sold out</th><th>Ratio</th></tr><tr><td>MACQW</td><td>$0.4793</td><td>0%</td><td>151950.0</td><td>0.0</td><td>inf</td></tr><tr><td>JSYNR</td><td>$0.2876</td><td>0%</td><td>500.0</td><td>0.0</td><td>inf</td></tr><tr><td>VRNA</td><td>$13.8</td><td>34.33%</td><td>3287489.0</td><td>0.0</td><td>inf</td></tr><tr><td>USOI</td><td>$25.63</td><td>0%</td><td>265885.0</td><td>0.0</td><td>inf</td></tr><tr><td>KAAC</td><td>$9.71</td><td>40.29%</td><td>14113792.0</td><td>0.0</td><td>inf</td></tr><tr><td>JSYNU</td><td>$10.76</td><td>15.96%</td><td>20900.0</td><td>0.0</td><td>inf</td></tr><tr><td>SSNT</td><td>$4.14</td><td>04.91%</td><td>220352.0</td><td>0.0</td><td>inf</td></tr><tr><td>FTXN</td><td>$19.8812</td><td>47.36%</td><td>88649.0</td><td>0.0</td><td>inf</td></tr><tr><td>TATT</td><td>$11</td><td>02.93%</td><td>11913.0</td><td>0.0</td><td>inf</td></tr><tr><td>FMCIR</td><td>$0.35</td><td>0%</td><td>9165127.0</td><td>0.0</td><td>inf</td></tr><tr><td>OTTW</td><td>$13.9896</td><td>14.57%</td><td>71646.0</td><td>0.0</td><td>inf</td></tr><tr><td>KAACW</td><td>$0.83</td><td>0%</td><td>3720486.0</td><td>0.0</td><td>inf</td></tr><tr><td>CLRBW</td><td>$0.147</td><td>0%</td><td>106600.0</td><td>0.0</td><td>inf</td></tr><tr><td>TERP</td><td>$12.895</td><td>00.07%</td><td>102019.0</td><td>0.0</td><td>inf</td></tr><tr><td>SLNOW</td><td>$0.17</td><td>0%</td><td>2706.0</td><td>0.0</td><td>inf</td></tr><tr><td>BPFHW</td><td>$10</td><td>0%</td><td>10000.0</td><td>0.0</td><td>inf</td></tr><tr><td>VSDA</td><td>$26.6864</td><td>12.61%</td><td>33932.0</td><td>0.0</td><td>inf</td></tr><tr><td>BOMN</td><td>$18.3</td><td>65.46%</td><td>1356334.0</td><td>0.0</td><td>inf</td></tr><tr><td>CBMXW</td><td>$2.4891</td><td>0%</td><td>200.0</td><td>0.0</td><td>inf</td></tr><tr><td>DSLV</td><td>$23.981</td><td>54.86%</td><td>323190.0</td><td>0.0</td><td>inf</td></tr><tr><td>ATNX</td><td>$16.4099</td><td>01.28%</td><td>514129.0</td><td>0.0</td><td>inf</td></tr><tr><td>BFIT</td><td>$16.33</td><td>92.57%</td><td>44707.0</td><td>0.0</td><td>inf</td></tr><tr><td>JCTCF</td><td>$15.75</td><td>13.03%</td><td>41.0</td><td>0.0</td><td>inf</td></tr><tr><td>NESRW</td><td>$0.55</td><td>0%</td><td>8502591.0</td><td>0.0</td><td>inf</td></tr><tr><td>PSC</td><td>$30.479</td><td>191.39%</td><td>27834.0</td><td>0.0</td><td>inf</td></tr><tr><td>HUNT</td><td>$9.82</td><td>61.51%</td><td>4775130.0</td><td>0.0</td><td>inf</td></tr><tr><td>VEAC</td><td>$9.74</td><td>42.30%</td><td>22115965.0</td><td>0.0</td><td>inf</td></tr><tr><td>LEXEB</td><td>$55</td><td>00.46%</td><td>2.0</td><td>0.0</td><td>inf</td></tr><tr><td>NESR</td><td>$9.75</td><td>40.57%</td><td>10530183.0</td><td>0.0</td><td>inf</td></tr><tr><td>BHACU</td><td>$8.52</td><td>02.42%</td><td>5400.0</td><td>0.0</td><td>inf</td></tr><tr><td>DFNL</td><td>$23.24</td><td>65.06%</td><td>691687.0</td><td>0.0</td><td>inf</td></tr><tr><td>NNDM</td><td>$4.34</td><td>00.55%</td><td>1519.0</td><td>0.0</td><td>inf</td></tr><tr><td>FMCIW</td><td>$0.36</td><td>0%</td><td>3596225.0</td><td>0.0</td><td>inf</td></tr><tr><td>YERR</td><td>$16.08</td><td>00.09%</td><td>161722.0</td><td>0.0</td><td>inf</td></tr><tr><td>FINX</td><td>$21.64</td><td>03.26%</td><td>30541.0</td><td>0.0</td><td>inf</td></tr><tr><td>CERCW</td><td>$0.0367</td><td>0%</td><td>107292.0</td><td>0.0</td><td>inf</td></tr><tr><td>ORG</td><td>$31.93</td><td>43.80%</td><td>173625.0</td><td>0.0</td><td>inf</td></tr><tr><td>ITEQ</td><td>$32.025</td><td>18.75%</td><td>122958.0</td><td>0.0</td><td>inf</td></tr><tr><td>SRUNW</td><td>$1.75</td><td>0%</td><td>8534018.0</td><td>0.0</td><td>inf</td></tr><tr><td>BNTCW</td><td>$0.42</td><td>0%</td><td>385.0</td><td>0.0</td><td>inf</td></tr><tr><td>CPAH</td><td>$2.6915</td><td>05.64%</td><td>14177.0</td><td>0.0</td><td>inf</td></tr><tr><td>FTXD</td><td>$19.685</td><td>55.60%</td><td>108.0</td><td>0.0</td><td>inf</td></tr><tr><td>IMRN</td><td>$5.8199</td><td>00.34%</td><td>11207.0</td><td>0.0</td><td>inf</td></tr><tr><td>LRGE</td><td>$27.8973</td><td>08.09%</td><td>8092.0</td><td>0.0</td><td>inf</td></tr><tr><td>MPACW</td><td>$0.42</td><td>0%</td><td>8989674.0</td><td>0.0</td><td>inf</td></tr><tr><td>MPAC</td><td>$9.74</td><td>43.49%</td><td>13067665.0</td><td>0.0</td><td>inf</td></tr><tr><td>ANGI</td><td>$12.02</td><td>00.08%</td><td>46952.0</td><td>0.0</td><td>inf</td></tr><tr><td>FRSX</td><td>$5.53</td><td>00.12%</td><td>22857.0</td><td>0.0</td><td>inf</td></tr><tr><td>CPTAG</td><td>$24.9</td><td>10.41%</td><td>208182.0</td><td>0.0</td><td>inf</td></tr><tr><td>RDIB</td><td>$22</td><td>07.12%</td><td>10276.0</td><td>0.0</td><td>inf</td></tr><tr><td>MOXC</td><td>$2.47</td><td>00.02%</td><td>15285.0</td><td>0.0</td><td>inf</td></tr><tr><td>MDGS</td><td>$2.1</td><td>39.31%</td><td>287033.0</td><td>0.0</td><td>inf</td></tr><tr><td>OXBRW</td><td>$0.4</td><td>0%</td><td>10492.0</td><td>0.0</td><td>inf</td></tr><tr><td>SQZZ</td><td>$25</td><td>00.80%</td><td>200.0</td><td>0.0</td><td>inf</td></tr><tr><td>SPKEP</td><td>$27.028</td><td>00.52%</td><td>8850.0</td><td>0.0</td><td>inf</td></tr><tr><td>CADC</td><td>$1.7035</td><td>01.95%</td><td>11832.0</td><td>0.0</td><td>inf</td></tr><tr><td>MIIIU</td><td>$10.52</td><td>19.60%</td><td>918930.0</td><td>0.0</td><td>inf</td></tr><tr><td>SIEB</td><td>$3.86</td><td>01.03%</td><td>8568.0</td><td>0.0</td><td>inf</td></tr><tr><td>ORIG</td><td>$27.6</td><td>00.14%</td><td>130654.0</td><td>0.0</td><td>inf</td></tr><tr><td>CACG</td><td>$26.8594</td><td>50.76%</td><td>710198.0</td><td>0.0</td><td>inf</td></tr><tr><td>TOCA</td><td>$11.04</td><td>37.86%</td><td>7368760.0</td><td>0.0</td><td>inf</td></tr><tr><td>NCSM</td><td>$21.04</td><td>95.25%</td><td>40896835.0</td><td>0.0</td><td>inf</td></tr><tr><td>DWLV</td><td>$30.62</td><td>98.24%</td><td>1883.0</td><td>0.0</td><td>inf</td></tr><tr><td>RILYZ</td><td>$25.64</td><td>05.10%</td><td>107147.0</td><td>0.0</td><td>inf</td></tr><tr><td>MMDMW</td><td>$0.54</td><td>0%</td><td>5659149.0</td><td>0.0</td><td>inf</td></tr><tr><td>WYIGW</td><td>$0.4478</td><td>0%</td><td>1000.0</td><td>0.0</td><td>inf</td></tr><tr><td>CSML</td><td>$27.0898</td><td>50.78%</td><td>400161.0</td><td>0.0</td><td>inf</td></tr><tr><td>IMRNW</td><td>$1.4</td><td>0%</td><td>35213.0</td><td>0.0</td><td>inf</td></tr><tr><td>FAAR</td><td>$30.0616</td><td>17.90%</td><td>13281.0</td><td>0.0</td><td>inf</td></tr><tr><td>PPSI</td><td>$7.8</td><td>19.64%</td><td>1575.0</td><td>0.0</td><td>inf</td></tr><tr><td>CNTF</td><td>$2.16</td><td>00.02%</td><td>19778.0</td><td>0.0</td><td>inf</td></tr><tr><td>MIIIW</td><td>$0.65</td><td>0%</td><td>323.0</td><td>0.0</td><td>inf</td></tr><tr><td>GTHX</td><td>$23.78</td><td>35.27%</td><td>8591396.0</td><td>0.0</td><td>inf</td></tr><tr><td>VRIG</td><td>$25.26</td><td>34.31%</td><td>321807.0</td><td>0.0</td><td>inf</td></tr><tr><td>CLRBZ</td><td>$0.65</td><td>0%</td><td>36838.0</td><td>0.0</td><td>inf</td></tr><tr><td>PRAN</td><td>$3.3292</td><td>01.83%</td><td>17040.0</td><td>0.0</td><td>inf</td></tr><tr><td>TCBIP</td><td>$25.74</td><td>00.04%</td><td>2002.0</td><td>0.0</td><td>inf</td></tr><tr><td>SRTSW</td><td>$1.89</td><td>0%</td><td>231256.0</td><td>0.0</td><td>inf</td></tr><tr><td>ARTW</td><td>$2.55</td><td>02.28%</td><td>39.0</td><td>0.0</td><td>inf</td></tr><tr><td>BCTF</td><td>$14.31</td><td>13.41%</td><td>6997.0</td><td>0.0</td><td>inf</td></tr><tr><td>ANDAU</td><td>$12</td><td>17.20%</td><td>100.0</td><td>0.0</td><td>inf</td></tr><tr><td>PFIN</td><td>$7.35</td><td>15.68%</td><td>121.0</td><td>0.0</td><td>inf</td></tr><tr><td>FMAO</td><td>$37.75</td><td>08.15%</td><td>671158.0</td><td>0.0</td><td>inf</td></tr><tr><td>SNGXW</td><td>$0.6</td><td>0%</td><td>12500.0</td><td>0.0</td><td>inf</td></tr><tr><td>RFAP</td><td>$61.11</td><td>72.26%</td><td>45474.0</td><td>0.0</td><td>inf</td></tr><tr><td>SWIN</td><td>$29.4299</td><td>32.08%</td><td>27542.0</td><td>0.0</td><td>inf</td></tr><tr><td>ANDAW</td><td>$0.8</td><td>0%</td><td>32825.0</td><td>0.0</td><td>inf</td></tr><tr><td>SGLBW</td><td>$0.45</td><td>0%</td><td>80000.0</td><td>0.0</td><td>inf</td></tr><tr><td>HYXE</td><td>$51.65</td><td>89.83%</td><td>100000.0</td><td>0.0</td><td>inf</td></tr><tr><td>ATAI</td><td>$4.59</td><td>00.31%</td><td>209.0</td><td>0.0</td><td>inf</td></tr><tr><td>ESGE</td><td>$71.99</td><td>25.63%</td><td>35813.0</td><td>0.0</td><td>inf</td></tr><tr><td>MACQ</td><td>$10.15</td><td>42.75%</td><td>154450.0</td><td>0.0</td><td>inf</td></tr><tr><td>ONSIZ</td><td>$0.05</td><td>0%</td><td>11304.0</td><td>0.0</td><td>inf</td></tr><tr><td>OVID</td><td>$8.29</td><td>32.39%</td><td>7150355.0</td><td>0.0</td><td>inf</td></tr><tr><td>IRDMB</td><td>$380</td><td>33.95%</td><td>1886.0</td><td>0.0</td><td>inf</td></tr><tr><td>MPB</td><td>$29.85</td><td>05.74%</td><td>38062.0</td><td>0.0</td><td>inf</td></tr><tr><td>ESGU</td><td>$56.75</td><td>41.33%</td><td>17285.0</td><td>0.0</td><td>inf</td></tr><tr><td>QRHC</td><td>$1.25</td><td>12.88%</td><td>11000.0</td><td>0.0</td><td>inf</td></tr><tr><td>ATOM</td><td>$2.49</td><td>15.78%</td><td>10472.0</td><td>0.0</td><td>inf</td></tr><tr><td>FTXG</td><td>$19.42</td><td>399.24%</td><td>33411.0</td><td>0.0</td><td>inf</td></tr></table>"
      ],
      "text/plain": [
       "<IPython.core.display.HTML object>"
      ]
     },
     "metadata": {},
     "output_type": "display_data"
    }
   ],
   "source": [
    "df[\"ratio\"] = df.new_shares / df.sold_shares\n",
    "df.sort_values(\"ratio\", ascending=False, inplace=True)\n",
    "display(HTML(\"<h3>Top 100 stocks by New Bullish Activity By Shares (New / Sold Out)</h3>\"))\n",
    "\n",
    "draw_table(\n",
    "    df[:100], \n",
    "    (\"Stock\", \"Share price\", \"Inst.Ownership\", \"New\", \"Sold out\", \"Ratio\"),\n",
    "    (\"symbol\", \"price\", \"institutional_ownership\", \"new_shares\", \"sold_shares\", \"ratio\")\n",
    ")"
   ]
  }
 ],
 "metadata": {
  "kernelspec": {
   "display_name": "Python 3",
   "language": "python",
   "name": "python3"
  },
  "language_info": {
   "codemirror_mode": {
    "name": "ipython",
    "version": 3
   },
   "file_extension": ".py",
   "mimetype": "text/x-python",
   "name": "python",
   "nbconvert_exporter": "python",
   "pygments_lexer": "ipython3",
   "version": "3.5.2"
  }
 },
 "nbformat": 4,
 "nbformat_minor": 2
}
