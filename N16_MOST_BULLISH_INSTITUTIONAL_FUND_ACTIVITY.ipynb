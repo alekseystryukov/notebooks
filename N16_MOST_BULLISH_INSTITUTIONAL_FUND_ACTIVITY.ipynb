{
 "cells": [
  {
   "cell_type": "code",
   "execution_count": 1,
   "metadata": {},
   "outputs": [],
   "source": [
    "from IPython.display import display, HTML\n",
    "from datetime import datetime\n",
    "from lxml import html, etree, objectify\n",
    "import pandas as pd\n",
    "import requests\n",
    "import threading\n",
    "import queue\n",
    "import csv\n",
    "import os"
   ]
  },
  {
   "cell_type": "code",
   "execution_count": 2,
   "metadata": {},
   "outputs": [
    {
     "data": {
      "text/plain": [
       "3198"
      ]
     },
     "execution_count": 2,
     "metadata": {},
     "output_type": "execute_result"
    }
   ],
   "source": [
    "def get_symbols():\n",
    "    with open(\"n16_symbols.csv\", \"r\") as f:\n",
    "        symbols = f.read().split()\n",
    "    return list(set(symbols))\n",
    "symbols = get_symbols()\n",
    "len(symbols)"
   ]
  },
  {
   "cell_type": "code",
   "execution_count": 3,
   "metadata": {},
   "outputs": [
    {
     "data": {
      "text/plain": [
       "{'decreased_holders': '268',\n",
       " 'decreased_shares': '15736105',\n",
       " 'held_holders': '125',\n",
       " 'held_shares': '74016938',\n",
       " 'increased_holders': '387',\n",
       " 'increased_shares': '5156362',\n",
       " 'institutional_ownership': '56.87%',\n",
       " 'new_holders': '129',\n",
       " 'new_shares': '1311576',\n",
       " 'price': '$320.87',\n",
       " 'sold_holders': '63',\n",
       " 'sold_shares': '1765026',\n",
       " 'total_shares': '167'}"
      ]
     },
     "execution_count": 3,
     "metadata": {},
     "output_type": "execute_result"
    }
   ],
   "source": [
    "def get_data(symbol):\n",
    "    url = \"http://www.nasdaq.com/symbol/{}/institutional-holdings\".format(symbol.lower())\n",
    "    page = requests.get(url)\n",
    "    tree = html.fromstring(page.content)    \n",
    "    \n",
    "    data = {}\n",
    "    # Price \n",
    "    div = tree.find('.//div[@id=\"qwidget_lastsale\"]')\n",
    "    if div is not None:\n",
    "        data[\"price\"] = div.text\n",
    "        \n",
    "    def get_text_val(t):\n",
    "        return (\"0\" if t is None else t).replace(\",\", \"\")\n",
    "    \n",
    "    # Institutional Ownership\n",
    "    table = tree.find('.//div[@class=\"infoTable marginT15px marginL15px\"]')\n",
    "    if table is not None:\n",
    "        for row in table.findall('.//tr'):\n",
    "            th_cell, td_cell = row\n",
    "            title, value = th_cell.text, get_text_val(td_cell.text)\n",
    "            if title == \"Total Shares Outstanding (millions)\":\n",
    "                data[\"total_shares\"] = value\n",
    "            elif title == \"Institutional Ownership\":\n",
    "                data[\"institutional_ownership\"] = value\n",
    "    \n",
    "    # Active positions\n",
    "    table = tree.find('.//div[@class=\"infoTable paddingT5px\"]')\n",
    "    if table is not None:\n",
    "        for row in table.findall('.//tr'):\n",
    "            first, second, third = row\n",
    "            label, holders, shares = first.text, get_text_val(second.text), get_text_val(third.text)\n",
    "            if label == \"Increased Positions\":\n",
    "                data[\"increased_holders\"] = holders\n",
    "                data[\"increased_shares\"] = shares\n",
    "            elif label == \"Decreased Positions\":\n",
    "                data[\"decreased_holders\"] = holders\n",
    "                data[\"decreased_shares\"] = shares\n",
    "            elif label == \"Held Positions\":\n",
    "                data[\"held_holders\"] = holders\n",
    "                data[\"held_shares\"] = shares\n",
    "    \n",
    "    # New and sold out positions    \n",
    "    table = tree.find('.//div[@class=\"infoTable floatL marginT15px\"]')\n",
    "    if table is not None:\n",
    "        for row in table.findall('.//tr'):\n",
    "            first, second, third = row\n",
    "            label, holders, shares = first.text, get_text_val(second.text), get_text_val(third.text)\n",
    "            if label == \"New Positions\":\n",
    "                data[\"new_holders\"] = holders\n",
    "                data[\"new_shares\"] = shares\n",
    "            elif label == \"Sold Out Positions\":\n",
    "                data[\"sold_holders\"] = holders\n",
    "                data[\"sold_shares\"] = shares\n",
    "            \n",
    "    return data\n",
    "\n",
    "get_data(\"TSLA\")"
   ]
  },
  {
   "cell_type": "code",
   "execution_count": 4,
   "metadata": {},
   "outputs": [
    {
     "name": "stdout",
     "output_type": "stream",
     "text": [
      "Couldn't get data for SHOR\n",
      "Couldn't get data for GLADO\n",
      "Couldn't get data for RTK\n",
      "Couldn't get data for DRWI\n",
      "Couldn't get data for ZBZZT\n",
      "Couldn't get data for PAACR\n",
      "Couldn't get data for FITS\n",
      "Couldn't get data for CRDT\n",
      "Couldn't get data for HNH\n",
      "Couldn't get data for CLACU\n",
      "Couldn't get data for OXLCN\n",
      "Couldn't get data for CPAAU\n",
      "Couldn't get data for HOTRW\n",
      "Couldn't get data for GUID\n",
      "Couldn't get data for MXPT\n",
      "Couldn't get data for WBB\n",
      "Couldn't get data for ZXZZT\n",
      "Couldn't get data for WBMD\n",
      "Couldn't get data for PVTBP\n",
      "Couldn't get data for AMRI\n",
      "Couldn't get data for SAJA\n",
      "Couldn't get data for MOCO\n",
      "Couldn't get data for PLYAW\n",
      "Couldn't get data for FULLL\n",
      "Couldn't get data for WSFSL\n",
      "Couldn't get data for MAUI\n",
      "Couldn't get data for INNL\n",
      "Couldn't get data for MRVC\n",
      "Couldn't get data for FUEL\n",
      "Couldn't get data for ZWZZT\n",
      "Couldn't get data for NDRM\n",
      "Couldn't get data for AXAR\n",
      "Couldn't get data for OKSB\n",
      "Couldn't get data for MSLI\n",
      "Couldn't get data for ZAZZT\n",
      "Couldn't get data for EVBS\n",
      "Couldn't get data for CPAAW\n",
      "Couldn't get data for GNVC\n",
      "Couldn't get data for TVIA\n",
      "Couldn't get data for SRSC\n",
      "Couldn't get data for NDRAU\n",
      "Couldn't get data for ARIS\n",
      "Couldn't get data for TUTI\n",
      "Couldn't get data for NAME\n",
      "Couldn't get data for SGBK\n",
      "Couldn't get data for NVDQ\n",
      "Couldn't get data for CACQ\n",
      "Couldn't get data for WSTC\n",
      "Couldn't get data for SPAN\n",
      "Couldn't get data for ELOS\n",
      "Couldn't get data for PAACU\n",
      "Couldn't get data for FINQ\n",
      "Couldn't get data for RNVAZ\n",
      "Couldn't get data for NCIT\n",
      "Couldn't get data for IMED\n",
      "Couldn't get data for NUTR\n",
      "Couldn't get data for AAPC\n",
      "Couldn't get data for BMLA\n",
      "Couldn't get data for ZVZZC\n",
      "Couldn't get data for AGNCP\n",
      "Couldn't get data for ZXYZ.A\n",
      "Couldn't get data for PERF\n",
      "Couldn't get data for HRMNU\n",
      "Couldn't get data for CUNB\n",
      "Couldn't get data for SPLS\n",
      "Couldn't get data for ACTX\n",
      "Couldn't get data for CCN\n",
      "Couldn't get data for SPNC\n",
      "Couldn't get data for WMAR\n",
      "Couldn't get data for FRP\n",
      "Couldn't get data for HCAPL\n",
      "Couldn't get data for SCLN\n",
      "Couldn't get data for EGT\n",
      "Couldn't get data for AIQ\n",
      "Couldn't get data for UBND\n",
      "Couldn't get data for CPAA\n",
      "Couldn't get data for UNXL\n",
      "Couldn't get data for PVTB\n",
      "Couldn't get data for CRDS\n",
      "Couldn't get data for WOOF\n",
      "Couldn't get data for NVET\n",
      "Couldn't get data for ASBB\n",
      "Couldn't get data for FCFP\n",
      "Couldn't get data for KITE\n",
      "Couldn't get data for ENOC\n",
      "Couldn't get data for SEV\n",
      "Couldn't get data for GSOL\n",
      "Couldn't get data for TUTT\n",
      "Couldn't get data for WBKC\n",
      "Couldn't get data for PRXL\n",
      "Couldn't get data for DGAS\n",
      "Couldn't get data for AXARU\n",
      "Couldn't get data for COVS\n",
      "Couldn't get data for LMIA\n",
      "Couldn't get data for PNRA\n",
      "Couldn't get data for AXARW\n",
      "Couldn't get data for PTXP\n",
      "Couldn't get data for ZJZZT\n",
      "Couldn't get data for WFM\n",
      "Couldn't get data for ZCZZT\n",
      "Couldn't get data for ZVZZT\n"
     ]
    }
   ],
   "source": [
    "directory = os.path.join(\"n16_data_cache\", str(datetime.now().date()))\n",
    "if not os.path.exists(directory):\n",
    "    os.makedirs(directory)\n",
    "\n",
    "def save_data_to_cache(symbols):\n",
    "    \n",
    "    num_worker_threads = 10\n",
    "    \n",
    "    def worker():\n",
    "        while True:\n",
    "            symbol = q.get()\n",
    "            if symbol is None:\n",
    "                break\n",
    "                \n",
    "            data = get_data(symbol)\n",
    "            if data:\n",
    "                fname = os.path.join(directory, \"{}.csv\".format(symbol))\n",
    "                with open(fname, 'w') as f:\n",
    "                    w = csv.DictWriter(f, data.keys())\n",
    "                    w.writeheader()\n",
    "                    w.writerow(data)\n",
    "            else:\n",
    "                print(\"Couldn't get data for {}\".format(symbol))\n",
    "            \n",
    "            q.task_done()\n",
    "\n",
    "    q = queue.Queue()\n",
    "\n",
    "    threads = []\n",
    "    for i in range(num_worker_threads):\n",
    "        t = threading.Thread(target=worker)\n",
    "        t.start()\n",
    "        threads.append(t)\n",
    "\n",
    "    for symbol in symbols:\n",
    "        fname = os.path.join(directory, \"{}.csv\".format(symbol))\n",
    "        if not os.path.isfile(fname):  # not in the cache\n",
    "            q.put(symbol)\n",
    "\n",
    "    # block until all tasks are done\n",
    "    q.join()\n",
    "\n",
    "    # stop workers\n",
    "    for i in range(num_worker_threads):\n",
    "        q.put(None)\n",
    "    \n",
    "    # join threads\n",
    "    for t in threads:\n",
    "        t.join()\n",
    "        \n",
    "save_data_to_cache(symbols)"
   ]
  },
  {
   "cell_type": "code",
   "execution_count": 5,
   "metadata": {
    "scrolled": true
   },
   "outputs": [
    {
     "data": {
      "text/plain": [
       "{'decreased_holders': 268.0,\n",
       " 'decreased_shares': 15736105.0,\n",
       " 'held_holders': 125.0,\n",
       " 'held_shares': 74016938.0,\n",
       " 'increased_holders': 387.0,\n",
       " 'increased_shares': 5156362.0,\n",
       " 'institutional_ownership': '56.87%',\n",
       " 'new_holders': 129.0,\n",
       " 'new_shares': 1311576.0,\n",
       " 'price': '$320.87',\n",
       " 'sold_holders': 63.0,\n",
       " 'sold_shares': 1765026.0,\n",
       " 'total_shares': 167.0}"
      ]
     },
     "execution_count": 5,
     "metadata": {},
     "output_type": "execute_result"
    }
   ],
   "source": [
    "def get_data_from_cache(symbol):\n",
    "    fname = os.path.join(directory, \"{}.csv\".format(symbol))\n",
    "    if os.path.isfile(fname):\n",
    "        with open(fname, 'r') as f:\n",
    "            reader = csv.reader(f)\n",
    "            header, values = reader\n",
    "            values = [float(v) if v.isnumeric() else v for v in values]\n",
    "            data = dict(zip(header, values))\n",
    "            return data\n",
    "\n",
    "get_data_from_cache(\"TSLA\")"
   ]
  },
  {
   "cell_type": "code",
   "execution_count": 6,
   "metadata": {},
   "outputs": [
    {
     "data": {
      "text/html": [
       "<div>\n",
       "<table border=\"1\" class=\"dataframe\">\n",
       "  <thead>\n",
       "    <tr style=\"text-align: right;\">\n",
       "      <th></th>\n",
       "      <th>decreased_holders</th>\n",
       "      <th>decreased_shares</th>\n",
       "      <th>held_holders</th>\n",
       "      <th>held_shares</th>\n",
       "      <th>increased_holders</th>\n",
       "      <th>increased_shares</th>\n",
       "      <th>institutional_ownership</th>\n",
       "      <th>new_holders</th>\n",
       "      <th>new_shares</th>\n",
       "      <th>price</th>\n",
       "      <th>sold_holders</th>\n",
       "      <th>sold_shares</th>\n",
       "      <th>symbol</th>\n",
       "      <th>total_shares</th>\n",
       "    </tr>\n",
       "  </thead>\n",
       "  <tbody>\n",
       "    <tr>\n",
       "      <th>0</th>\n",
       "      <td>36.0</td>\n",
       "      <td>4456121.0</td>\n",
       "      <td>12.0</td>\n",
       "      <td>1.34957e+06</td>\n",
       "      <td>29.0</td>\n",
       "      <td>2075342.0</td>\n",
       "      <td>21.24%</td>\n",
       "      <td>14.0</td>\n",
       "      <td>635845.0</td>\n",
       "      <td>$1.72</td>\n",
       "      <td>24.0</td>\n",
       "      <td>2167192.0</td>\n",
       "      <td>GNMX</td>\n",
       "      <td>37.0</td>\n",
       "    </tr>\n",
       "    <tr>\n",
       "      <th>1</th>\n",
       "      <td>NaN</td>\n",
       "      <td>NaN</td>\n",
       "      <td>NaN</td>\n",
       "      <td>NaN</td>\n",
       "      <td>NaN</td>\n",
       "      <td>NaN</td>\n",
       "      <td>NaN</td>\n",
       "      <td>NaN</td>\n",
       "      <td>NaN</td>\n",
       "      <td>$27.94</td>\n",
       "      <td>NaN</td>\n",
       "      <td>NaN</td>\n",
       "      <td>CHSCN</td>\n",
       "      <td>NaN</td>\n",
       "    </tr>\n",
       "    <tr>\n",
       "      <th>2</th>\n",
       "      <td>24.0</td>\n",
       "      <td>1234759.0</td>\n",
       "      <td>21.0</td>\n",
       "      <td>9.14003e+06</td>\n",
       "      <td>68.0</td>\n",
       "      <td>1777506.0</td>\n",
       "      <td>68.09%</td>\n",
       "      <td>21.0</td>\n",
       "      <td>762305.0</td>\n",
       "      <td>$35.65</td>\n",
       "      <td>7.0</td>\n",
       "      <td>1161515.0</td>\n",
       "      <td>PGC</td>\n",
       "      <td>18.0</td>\n",
       "    </tr>\n",
       "    <tr>\n",
       "      <th>3</th>\n",
       "      <td>141.0</td>\n",
       "      <td>21153734.0</td>\n",
       "      <td>47.0</td>\n",
       "      <td>1.47285e+08</td>\n",
       "      <td>127.0</td>\n",
       "      <td>33188980.0</td>\n",
       "      <td>82.82%</td>\n",
       "      <td>37.0</td>\n",
       "      <td>18158866.0</td>\n",
       "      <td>$15.1</td>\n",
       "      <td>40.0</td>\n",
       "      <td>2586535.0</td>\n",
       "      <td>WEN</td>\n",
       "      <td>243.0</td>\n",
       "    </tr>\n",
       "    <tr>\n",
       "      <th>4</th>\n",
       "      <td>10.0</td>\n",
       "      <td>68686.0</td>\n",
       "      <td>4.0</td>\n",
       "      <td>1.34232e+06</td>\n",
       "      <td>6.0</td>\n",
       "      <td>135306.0</td>\n",
       "      <td>35.32%</td>\n",
       "      <td>1.0</td>\n",
       "      <td>2689.0</td>\n",
       "      <td>$14.48</td>\n",
       "      <td>3.0</td>\n",
       "      <td>25924.0</td>\n",
       "      <td>BOTJ</td>\n",
       "      <td>4.0</td>\n",
       "    </tr>\n",
       "    <tr>\n",
       "      <th>5</th>\n",
       "      <td>26.0</td>\n",
       "      <td>386397.0</td>\n",
       "      <td>23.0</td>\n",
       "      <td>1.92674e+07</td>\n",
       "      <td>76.0</td>\n",
       "      <td>5002018.0</td>\n",
       "      <td>44.59%</td>\n",
       "      <td>27.0</td>\n",
       "      <td>2624359.0</td>\n",
       "      <td>$19.25</td>\n",
       "      <td>10.0</td>\n",
       "      <td>122397.0</td>\n",
       "      <td>AXDX</td>\n",
       "      <td>55.0</td>\n",
       "    </tr>\n",
       "    <tr>\n",
       "      <th>6</th>\n",
       "      <td>18.0</td>\n",
       "      <td>701655.0</td>\n",
       "      <td>16.0</td>\n",
       "      <td>2.08166e+07</td>\n",
       "      <td>12.0</td>\n",
       "      <td>502371.0</td>\n",
       "      <td>57.67%</td>\n",
       "      <td>4.0</td>\n",
       "      <td>23620.0</td>\n",
       "      <td>$5.6438</td>\n",
       "      <td>5.0</td>\n",
       "      <td>55694.0</td>\n",
       "      <td>BKEP</td>\n",
       "      <td>38.0</td>\n",
       "    </tr>\n",
       "    <tr>\n",
       "      <th>7</th>\n",
       "      <td>5.0</td>\n",
       "      <td>23905.0</td>\n",
       "      <td>2.0</td>\n",
       "      <td>2.00845e+06</td>\n",
       "      <td>2.0</td>\n",
       "      <td>25348.0</td>\n",
       "      <td>83.99%</td>\n",
       "      <td>2.0</td>\n",
       "      <td>25348.0</td>\n",
       "      <td>$18.5361</td>\n",
       "      <td>3.0</td>\n",
       "      <td>17443.0</td>\n",
       "      <td>KRMA</td>\n",
       "      <td>2.0</td>\n",
       "    </tr>\n",
       "    <tr>\n",
       "      <th>8</th>\n",
       "      <td>11.0</td>\n",
       "      <td>208050.0</td>\n",
       "      <td>5.0</td>\n",
       "      <td>2.44092e+06</td>\n",
       "      <td>36.0</td>\n",
       "      <td>2448010.0</td>\n",
       "      <td>41.03%</td>\n",
       "      <td>16.0</td>\n",
       "      <td>1221550.0</td>\n",
       "      <td>$10.8</td>\n",
       "      <td>4.0</td>\n",
       "      <td>54953.0</td>\n",
       "      <td>ASUR</td>\n",
       "      <td>12.0</td>\n",
       "    </tr>\n",
       "    <tr>\n",
       "      <th>9</th>\n",
       "      <td>0.0</td>\n",
       "      <td>0.0</td>\n",
       "      <td>0.0</td>\n",
       "      <td>0</td>\n",
       "      <td>0.0</td>\n",
       "      <td>0.0</td>\n",
       "      <td>0</td>\n",
       "      <td>0.0</td>\n",
       "      <td>0.0</td>\n",
       "      <td>NaN</td>\n",
       "      <td>0.0</td>\n",
       "      <td>0.0</td>\n",
       "      <td>GPIA</td>\n",
       "      <td>0.0</td>\n",
       "    </tr>\n",
       "  </tbody>\n",
       "</table>\n",
       "</div>"
      ],
      "text/plain": [
       "   decreased_holders  decreased_shares  held_holders  held_shares  \\\n",
       "0               36.0         4456121.0          12.0  1.34957e+06   \n",
       "1                NaN               NaN           NaN          NaN   \n",
       "2               24.0         1234759.0          21.0  9.14003e+06   \n",
       "3              141.0        21153734.0          47.0  1.47285e+08   \n",
       "4               10.0           68686.0           4.0  1.34232e+06   \n",
       "5               26.0          386397.0          23.0  1.92674e+07   \n",
       "6               18.0          701655.0          16.0  2.08166e+07   \n",
       "7                5.0           23905.0           2.0  2.00845e+06   \n",
       "8               11.0          208050.0           5.0  2.44092e+06   \n",
       "9                0.0               0.0           0.0            0   \n",
       "\n",
       "   increased_holders  increased_shares institutional_ownership  new_holders  \\\n",
       "0               29.0         2075342.0                  21.24%         14.0   \n",
       "1                NaN               NaN                     NaN          NaN   \n",
       "2               68.0         1777506.0                  68.09%         21.0   \n",
       "3              127.0        33188980.0                  82.82%         37.0   \n",
       "4                6.0          135306.0                  35.32%          1.0   \n",
       "5               76.0         5002018.0                  44.59%         27.0   \n",
       "6               12.0          502371.0                  57.67%          4.0   \n",
       "7                2.0           25348.0                  83.99%          2.0   \n",
       "8               36.0         2448010.0                  41.03%         16.0   \n",
       "9                0.0               0.0                       0          0.0   \n",
       "\n",
       "   new_shares     price  sold_holders  sold_shares symbol  total_shares  \n",
       "0    635845.0     $1.72          24.0    2167192.0   GNMX          37.0  \n",
       "1         NaN    $27.94           NaN          NaN  CHSCN           NaN  \n",
       "2    762305.0    $35.65           7.0    1161515.0    PGC          18.0  \n",
       "3  18158866.0     $15.1          40.0    2586535.0    WEN         243.0  \n",
       "4      2689.0    $14.48           3.0      25924.0   BOTJ           4.0  \n",
       "5   2624359.0    $19.25          10.0     122397.0   AXDX          55.0  \n",
       "6     23620.0   $5.6438           5.0      55694.0   BKEP          38.0  \n",
       "7     25348.0  $18.5361           3.0      17443.0   KRMA           2.0  \n",
       "8   1221550.0     $10.8           4.0      54953.0   ASUR          12.0  \n",
       "9         0.0       NaN           0.0          0.0   GPIA           0.0  "
      ]
     },
     "execution_count": 6,
     "metadata": {},
     "output_type": "execute_result"
    }
   ],
   "source": [
    "data = []\n",
    "for symbol in symbols:\n",
    "    symbol_data = get_data_from_cache(symbol)\n",
    "    if symbol_data:\n",
    "        symbol_data[\"symbol\"] = symbol\n",
    "        data.append(symbol_data)\n",
    "df = pd.DataFrame.from_records(data)\n",
    "df[:10]"
   ]
  },
  {
   "cell_type": "code",
   "execution_count": 7,
   "metadata": {},
   "outputs": [
    {
     "data": {
      "text/html": [
       "<table><tr><th>Symbol</th><th>Price</th></tr><tr><td>GNMX</td><td>$1.72</td></tr><tr><td>CHSCN</td><td>$27.94</td></tr><tr><td>PGC</td><td>$35.65</td></tr><tr><td>WEN</td><td>$15.1</td></tr><tr><td>BOTJ</td><td>$14.48</td></tr><tr><td>AXDX</td><td>$19.25</td></tr><tr><td>BKEP</td><td>$5.6438</td></tr><tr><td>KRMA</td><td>$18.5361</td></tr><tr><td>ASUR</td><td>$10.8</td></tr><tr><td>GPIA</td><td>nan</td></tr></table>"
      ],
      "text/plain": [
       "<IPython.core.display.HTML object>"
      ]
     },
     "metadata": {},
     "output_type": "display_data"
    }
   ],
   "source": [
    "def draw_table(sub_df, headers, fields):\n",
    "    s = \"<table><tr><th>\" + \"</th><th>\".join(headers) + \"</th></tr>\"\n",
    "    for r in sub_df.itertuples():\n",
    "        s += \"<tr><td>\" + \"</td><td>\".join(str(getattr(r, f)) for f in fields) + \"</td></tr>\"\n",
    "    s += \"</table>\"\n",
    "    display(HTML(s))\n",
    "    \n",
    "draw_table(df[:10], (\"Symbol\", \"Price\"), (\"symbol\", \"price\"))"
   ]
  },
  {
   "cell_type": "code",
   "execution_count": 8,
   "metadata": {
    "scrolled": true
   },
   "outputs": [
    {
     "data": {
      "text/html": [
       "<h3>Top 100 stocks by Active Bullish Activity By Number of Funds((Increased – Decreased)/Held)</h3>"
      ],
      "text/plain": [
       "<IPython.core.display.HTML object>"
      ]
     },
     "metadata": {},
     "output_type": "display_data"
    },
    {
     "data": {
      "text/html": [
       "<table><tr><th>Stock</th><th>Share price</th><th>Inst.Ownership</th><th>Increased</th><th>Decreased</th><th>Held</th><th>Ratio</th></tr><tr><td>ATNX</td><td>$16.91</td><td>01.10%</td><td>17.0</td><td>0.0</td><td>0.0</td><td>inf</td></tr><tr><td>MOXC</td><td>$2.4</td><td>00.02%</td><td>2.0</td><td>0.0</td><td>0.0</td><td>inf</td></tr><tr><td>ESGU</td><td>$56.57</td><td>38.74%</td><td>3.0</td><td>2.0</td><td>0.0</td><td>inf</td></tr><tr><td>ORIG</td><td>$26.79</td><td>00.14%</td><td>1.0</td><td>0.0</td><td>0.0</td><td>inf</td></tr><tr><td>CCCR</td><td>$3.16</td><td>00.78%</td><td>4.0</td><td>2.0</td><td>0.0</td><td>inf</td></tr><tr><td>FINX</td><td>$21.62</td><td>03.26%</td><td>3.0</td><td>0.0</td><td>0.0</td><td>inf</td></tr><tr><td>JSMD</td><td>$36.66</td><td>58.03%</td><td>7.0</td><td>3.0</td><td>0.0</td><td>inf</td></tr><tr><td>CLWT</td><td>$3.9</td><td>00.35%</td><td>2.0</td><td>1.0</td><td>0.0</td><td>inf</td></tr><tr><td>ADOM</td><td>$4.82</td><td>0%</td><td>2.0</td><td>1.0</td><td>0.0</td><td>inf</td></tr><tr><td>CID</td><td>$35.4162</td><td>54.04%</td><td>8.0</td><td>4.0</td><td>0.0</td><td>inf</td></tr><tr><td>MMDMR</td><td>$0.4</td><td>0%</td><td>18.0</td><td>0.0</td><td>0.0</td><td>inf</td></tr><tr><td>VIIX</td><td>$14.48</td><td>38.46%</td><td>10.0</td><td>5.0</td><td>0.0</td><td>inf</td></tr><tr><td>LRGE</td><td>$27.4828</td><td>08.09%</td><td>1.0</td><td>0.0</td><td>0.0</td><td>inf</td></tr><tr><td>VEAC</td><td>$9.74</td><td>42.30%</td><td>22.0</td><td>0.0</td><td>0.0</td><td>inf</td></tr><tr><td>ASV</td><td>$8.15</td><td>39.90%</td><td>15.0</td><td>1.0</td><td>0.0</td><td>inf</td></tr><tr><td>GOODM</td><td>$25.865</td><td>06.11%</td><td>1.0</td><td>0.0</td><td>0.0</td><td>inf</td></tr><tr><td>VRNA</td><td>$13.475</td><td>30.12%</td><td>9.0</td><td>0.0</td><td>0.0</td><td>inf</td></tr><tr><td>CPTAG</td><td>$25.1</td><td>09.73%</td><td>3.0</td><td>0.0</td><td>0.0</td><td>inf</td></tr><tr><td>DWAC</td><td>$24.0721</td><td>46.07%</td><td>4.0</td><td>2.0</td><td>0.0</td><td>inf</td></tr><tr><td>USOI</td><td>$24.87</td><td>0%</td><td>2.0</td><td>0.0</td><td>0.0</td><td>inf</td></tr><tr><td>GTHX</td><td>$21.86</td><td>35.11%</td><td>27.0</td><td>1.0</td><td>0.0</td><td>inf</td></tr><tr><td>SMCP</td><td>$23.89</td><td>98.05%</td><td>4.0</td><td>3.0</td><td>0.0</td><td>inf</td></tr><tr><td>MPACW</td><td>$0.4</td><td>0%</td><td>15.0</td><td>0.0</td><td>0.0</td><td>inf</td></tr><tr><td>IMRNW</td><td>$1.4</td><td>0%</td><td>2.0</td><td>0.0</td><td>0.0</td><td>inf</td></tr><tr><td>MYSZ</td><td>$0.7281</td><td>00.73%</td><td>2.0</td><td>1.0</td><td>0.0</td><td>inf</td></tr><tr><td>NUROW</td><td>$0.0301</td><td>0%</td><td>2.0</td><td>1.0</td><td>0.0</td><td>inf</td></tr><tr><td>PCSB</td><td>$18.8</td><td>34.70%</td><td>56.0</td><td>3.0</td><td>0.0</td><td>inf</td></tr><tr><td>BNTC</td><td>$2.65</td><td>00.29%</td><td>3.0</td><td>2.0</td><td>0.0</td><td>inf</td></tr><tr><td>MMDM</td><td>$9.78</td><td>48.84%</td><td>20.0</td><td>1.0</td><td>0.0</td><td>inf</td></tr><tr><td>APPN</td><td>$23.27</td><td>96.96%</td><td>41.0</td><td>1.0</td><td>0.0</td><td>inf</td></tr><tr><td>RFEM</td><td>$69.08</td><td>45.40%</td><td>19.0</td><td>4.0</td><td>0.0</td><td>inf</td></tr><tr><td>NGHCN</td><td>$25.35</td><td>02.60%</td><td>1.0</td><td>0.0</td><td>0.0</td><td>inf</td></tr><tr><td>SGH</td><td>$30.39</td><td>27.85%</td><td>26.0</td><td>1.0</td><td>0.0</td><td>inf</td></tr><tr><td>LMFA</td><td>$1.98</td><td>05.23%</td><td>2.0</td><td>1.0</td><td>0.0</td><td>inf</td></tr><tr><td>SSNT</td><td>$4.12</td><td>04.91%</td><td>7.0</td><td>0.0</td><td>0.0</td><td>inf</td></tr><tr><td>FTXD</td><td>$19.54</td><td>55.60%</td><td>2.0</td><td>0.0</td><td>0.0</td><td>inf</td></tr><tr><td>SRUNW</td><td>$1.6</td><td>0%</td><td>21.0</td><td>0.0</td><td>0.0</td><td>inf</td></tr><tr><td>BMLP</td><td>$45.5619</td><td>0%</td><td>4.0</td><td>1.0</td><td>0.0</td><td>inf</td></tr><tr><td>CEZ</td><td>$29.2</td><td>44.16%</td><td>6.0</td><td>5.0</td><td>0.0</td><td>inf</td></tr><tr><td>YERR</td><td>$13.3</td><td>00.09%</td><td>4.0</td><td>0.0</td><td>0.0</td><td>inf</td></tr><tr><td>SRUN</td><td>$10</td><td>38.54%</td><td>33.0</td><td>2.0</td><td>0.0</td><td>inf</td></tr><tr><td>RFEU</td><td>$64.76</td><td>57.38%</td><td>22.0</td><td>3.0</td><td>0.0</td><td>inf</td></tr><tr><td>IOTS</td><td>$7.95</td><td>33.92%</td><td>17.0</td><td>6.0</td><td>0.0</td><td>inf</td></tr><tr><td>KAAC</td><td>$9.71</td><td>40.29%</td><td>20.0</td><td>0.0</td><td>0.0</td><td>inf</td></tr><tr><td>BOMN</td><td>$17.2</td><td>65.46%</td><td>14.0</td><td>0.0</td><td>0.0</td><td>inf</td></tr><tr><td>CACG</td><td>$26.64</td><td>50.77%</td><td>11.0</td><td>0.0</td><td>0.0</td><td>inf</td></tr><tr><td>RILYZ</td><td>$25.7125</td><td>05.10%</td><td>3.0</td><td>0.0</td><td>0.0</td><td>inf</td></tr><tr><td>IMRN</td><td>$5.06</td><td>00.34%</td><td>2.0</td><td>0.0</td><td>0.0</td><td>inf</td></tr><tr><td>FMCIW</td><td>$0.37</td><td>0%</td><td>11.0</td><td>0.0</td><td>0.0</td><td>inf</td></tr><tr><td>IBKCP</td><td>$28.1</td><td>00.13%</td><td>1.0</td><td>0.0</td><td>0.0</td><td>inf</td></tr><tr><td>LGCYO</td><td>$4.69</td><td>03.51%</td><td>1.0</td><td>0.0</td><td>0.0</td><td>inf</td></tr><tr><td>FMCI</td><td>$9.7</td><td>50.73%</td><td>18.0</td><td>0.0</td><td>0.0</td><td>inf</td></tr><tr><td>CCRC</td><td>$12.47</td><td>00.73%</td><td>8.0</td><td>5.0</td><td>0.0</td><td>inf</td></tr><tr><td>TVIZ</td><td>$10.91</td><td>63.58%</td><td>4.0</td><td>2.0</td><td>0.0</td><td>inf</td></tr><tr><td>SQZZ</td><td>$24.9945</td><td>00.80%</td><td>1.0</td><td>0.0</td><td>0.0</td><td>inf</td></tr><tr><td>FPXI</td><td>$34.79</td><td>20.30%</td><td>8.0</td><td>4.0</td><td>0.0</td><td>inf</td></tr><tr><td>TICCL</td><td>$26.324</td><td>00.02%</td><td>1.0</td><td>0.0</td><td>0.0</td><td>inf</td></tr><tr><td>QLC</td><td>$31.9899</td><td>19.15%</td><td>1.0</td><td>0.0</td><td>0.0</td><td>inf</td></tr><tr><td>MBSD</td><td>$23.8</td><td>70.55%</td><td>8.0</td><td>5.0</td><td>0.0</td><td>inf</td></tr><tr><td>APWC</td><td>$3</td><td>00.38%</td><td>3.0</td><td>0.0</td><td>0.0</td><td>inf</td></tr><tr><td>FORK</td><td>$4.2</td><td>00.12%</td><td>2.0</td><td>0.0</td><td>0.0</td><td>inf</td></tr><tr><td>KBLMU</td><td>$10.2</td><td>0%</td><td>17.0</td><td>1.0</td><td>0.0</td><td>inf</td></tr><tr><td>VEACW</td><td>$1.25</td><td>0%</td><td>10.0</td><td>1.0</td><td>0.0</td><td>inf</td></tr><tr><td>CHSCM</td><td>$27.31</td><td>00.07%</td><td>1.0</td><td>0.0</td><td>0.0</td><td>inf</td></tr><tr><td>OLD</td><td>$24.525</td><td>41.45%</td><td>4.0</td><td>1.0</td><td>0.0</td><td>inf</td></tr><tr><td>OXLCO</td><td>$25.4049</td><td>00.35%</td><td>2.0</td><td>0.0</td><td>0.0</td><td>inf</td></tr><tr><td>FMCIU</td><td>$10.18</td><td>0%</td><td>15.0</td><td>1.0</td><td>0.0</td><td>inf</td></tr><tr><td>SPKEP</td><td>$26.501</td><td>00.52%</td><td>1.0</td><td>0.0</td><td>0.0</td><td>inf</td></tr><tr><td>MPAC</td><td>$9.75</td><td>43.49%</td><td>20.0</td><td>0.0</td><td>0.0</td><td>inf</td></tr><tr><td>URGN</td><td>$28.42</td><td>36.94%</td><td>23.0</td><td>0.0</td><td>0.0</td><td>inf</td></tr><tr><td>CSML</td><td>$27.89</td><td>30.62%</td><td>10.0</td><td>0.0</td><td>0.0</td><td>inf</td></tr><tr><td>OASM</td><td>$1.01</td><td>00.50%</td><td>3.0</td><td>1.0</td><td>0.0</td><td>inf</td></tr><tr><td>CFBI</td><td>$13.1093</td><td>01.71%</td><td>9.0</td><td>2.0</td><td>0.0</td><td>inf</td></tr><tr><td>VSDA</td><td>$26.86</td><td>12.61%</td><td>5.0</td><td>0.0</td><td>0.0</td><td>inf</td></tr><tr><td>VEACU</td><td>$10.15</td><td>64.03%</td><td>26.0</td><td>1.0</td><td>0.0</td><td>inf</td></tr><tr><td>IFMK</td><td>$11.72</td><td>00.42%</td><td>4.0</td><td>3.0</td><td>0.0</td><td>inf</td></tr><tr><td>CDL</td><td>$43.89</td><td>38.31%</td><td>10.0</td><td>8.0</td><td>0.0</td><td>inf</td></tr><tr><td>CPTAL</td><td>$25.35</td><td>0%</td><td>1.0</td><td>0.0</td><td>0.0</td><td>inf</td></tr><tr><td>MMDMU</td><td>$10.45</td><td>0%</td><td>10.0</td><td>2.0</td><td>0.0</td><td>inf</td></tr><tr><td>MMDMW</td><td>$0.54</td><td>0%</td><td>12.0</td><td>0.0</td><td>0.0</td><td>inf</td></tr><tr><td>FMCIR</td><td>$0.389</td><td>0%</td><td>13.0</td><td>0.0</td><td>0.0</td><td>inf</td></tr><tr><td>MSDIW</td><td>$0.1</td><td>0%</td><td>1.0</td><td>0.0</td><td>0.0</td><td>inf</td></tr><tr><td>FTXN</td><td>$18.55</td><td>47.36%</td><td>3.0</td><td>0.0</td><td>0.0</td><td>inf</td></tr><tr><td>NCSM</td><td>$20.99</td><td>92.32%</td><td>62.0</td><td>1.0</td><td>1.0</td><td>61.0</td></tr><tr><td>BZUN</td><td>$31.52</td><td>11.71%</td><td>80.0</td><td>28.0</td><td>1.0</td><td>52.0</td></tr><tr><td>OKTA</td><td>$27.92</td><td>64.69%</td><td>87.0</td><td>2.0</td><td>2.0</td><td>42.5</td></tr><tr><td>PVAC</td><td>$40.58</td><td>63.96%</td><td>51.0</td><td>14.0</td><td>1.0</td><td>37.0</td></tr><tr><td>FNBG</td><td>$34.8</td><td>19.68%</td><td>37.0</td><td>2.0</td><td>1.0</td><td>35.0</td></tr><tr><td>IRTC</td><td>$50.76</td><td>94.19%</td><td>88.0</td><td>20.0</td><td>2.0</td><td>34.0</td></tr><tr><td>VERI</td><td>$38.33</td><td>08.59%</td><td>33.0</td><td>0.0</td><td>1.0</td><td>33.0</td></tr><tr><td>ARGX</td><td>$23</td><td>24.70%</td><td>32.0</td><td>0.0</td><td>1.0</td><td>32.0</td></tr><tr><td>FTXO</td><td>$28.38</td><td>88.11%</td><td>46.0</td><td>17.0</td><td>1.0</td><td>29.0</td></tr><tr><td>OMNT</td><td>$3.36</td><td>09.27%</td><td>27.0</td><td>1.0</td><td>1.0</td><td>26.0</td></tr><tr><td>NESR</td><td>$9.78</td><td>38.09%</td><td>26.0</td><td>0.0</td><td>1.0</td><td>26.0</td></tr><tr><td>PLYA</td><td>$10.19</td><td>87.43%</td><td>62.0</td><td>37.0</td><td>1.0</td><td>25.0</td></tr><tr><td>TTD</td><td>$63.97</td><td>90.62%</td><td>117.0</td><td>42.0</td><td>3.0</td><td>25.0</td></tr><tr><td>UPL</td><td>$8.22</td><td>87.36%</td><td>131.0</td><td>8.0</td><td>5.0</td><td>24.6</td></tr><tr><td>CGBD</td><td>$18.55</td><td>07.92%</td><td>25.0</td><td>1.0</td><td>1.0</td><td>24.0</td></tr><tr><td>ICHR</td><td>$31.08</td><td>83.91%</td><td>75.0</td><td>33.0</td><td>2.0</td><td>21.0</td></tr><tr><td>OVID</td><td>$6.58</td><td>32.31%</td><td>41.0</td><td>1.0</td><td>2.0</td><td>20.0</td></tr></table>"
      ],
      "text/plain": [
       "<IPython.core.display.HTML object>"
      ]
     },
     "metadata": {},
     "output_type": "display_data"
    }
   ],
   "source": [
    "df[\"ratio\"] = (df.increased_holders - df.decreased_holders) / df.held_holders\n",
    "df.sort_values(\"ratio\", ascending=False, inplace=True)\n",
    "display(HTML(\"<h3>Top 100 stocks by Active Bullish Activity By Number of Funds((Increased – Decreased)/Held)</h3>\"))\n",
    "\n",
    "draw_table(\n",
    "    df[:100], \n",
    "    (\"Stock\", \"Share price\", \"Inst.Ownership\", \"Increased\", \"Decreased\", \"Held\", \"Ratio\"),\n",
    "    (\"symbol\", \"price\", \"institutional_ownership\", \"increased_holders\", \"decreased_holders\", \"held_holders\", \"ratio\")\n",
    ")"
   ]
  },
  {
   "cell_type": "code",
   "execution_count": 9,
   "metadata": {},
   "outputs": [
    {
     "data": {
      "text/html": [
       "<h3>Top 100 stocks by Active Bullish Activity By Shares (Increased / Decreased)</h3>"
      ],
      "text/plain": [
       "<IPython.core.display.HTML object>"
      ]
     },
     "metadata": {},
     "output_type": "display_data"
    },
    {
     "data": {
      "text/html": [
       "<table><tr><th>Stock</th><th>Share price</th><th>Inst.Ownership</th><th>Increased</th><th>Decreased</th><th>Held</th><th>Ratio</th></tr><tr><td>ATNX</td><td>$16.91</td><td>01.10%</td><td>560739.0</td><td>0.0</td><td>66904.0</td><td>inf</td></tr><tr><td>JCTCF</td><td>$14.45</td><td>12.79%</td><td>2819.0</td><td>0.0</td><td>284506.0</td><td>inf</td></tr><tr><td>JSYNU</td><td>$10.7792</td><td>15.96%</td><td>20900.0</td><td>0.0</td><td>601409.0</td><td>inf</td></tr><tr><td>MACQW</td><td>$0.3351</td><td>0%</td><td>153150.0</td><td>0.0</td><td>1779533.0</td><td>inf</td></tr><tr><td>ITEQ</td><td>$32.34</td><td>18.74%</td><td>137241.0</td><td>0.0</td><td>22019.0</td><td>inf</td></tr><tr><td>TATT</td><td>$10.8</td><td>02.93%</td><td>101421.0</td><td>0.0</td><td>157571.0</td><td>inf</td></tr><tr><td>DSLV</td><td>$24.7799</td><td>54.86%</td><td>448190.0</td><td>0.0</td><td>300001.0</td><td>inf</td></tr><tr><td>HUNT</td><td>$9.7889</td><td>61.51%</td><td>7614358.0</td><td>0.0</td><td>1719000.0</td><td>inf</td></tr><tr><td>RDIB</td><td>$22</td><td>06.50%</td><td>600.0</td><td>0.0</td><td>108716.0</td><td>inf</td></tr><tr><td>SBNYW</td><td>$96.07</td><td>0%</td><td>112.0</td><td>0.0</td><td>43309.0</td><td>inf</td></tr><tr><td>DISCB</td><td>$23</td><td>00.16%</td><td>90.0</td><td>0.0</td><td>10052.0</td><td>inf</td></tr><tr><td>CATS</td><td>$3.71</td><td>07.26%</td><td>830466.0</td><td>0.0</td><td>322819.0</td><td>inf</td></tr><tr><td>KAACW</td><td>$0.85</td><td>0%</td><td>3720486.0</td><td>0.0</td><td>272700.0</td><td>inf</td></tr><tr><td>NESRW</td><td>$0.52</td><td>0%</td><td>8512591.0</td><td>0.0</td><td>126000.0</td><td>inf</td></tr><tr><td>NESR</td><td>$9.78</td><td>38.09%</td><td>10788708.0</td><td>0.0</td><td>126000.0</td><td>inf</td></tr><tr><td>ARGX</td><td>$23</td><td>24.70%</td><td>6641679.0</td><td>0.0</td><td>10.0</td><td>inf</td></tr><tr><td>VERI</td><td>$38.33</td><td>08.59%</td><td>1283195.0</td><td>0.0</td><td>1352.0</td><td>inf</td></tr><tr><td>GPACU</td><td>$10.8642</td><td>09.02%</td><td>35200.0</td><td>0.0</td><td>1364800.0</td><td>inf</td></tr><tr><td>FTXN</td><td>$18.55</td><td>47.36%</td><td>89223.0</td><td>0.0</td><td>5500.0</td><td>inf</td></tr><tr><td>MSDIW</td><td>$0.1</td><td>0%</td><td>452.0</td><td>0.0</td><td>255.0</td><td>inf</td></tr><tr><td>FMCIR</td><td>$0.389</td><td>0%</td><td>9266127.0</td><td>0.0</td><td>181800.0</td><td>inf</td></tr><tr><td>MMDMW</td><td>$0.54</td><td>0%</td><td>5659149.0</td><td>0.0</td><td>0.0</td><td>inf</td></tr><tr><td>CPTAL</td><td>$25.35</td><td>0%</td><td>75.0</td><td>0.0</td><td>0.0</td><td>inf</td></tr><tr><td>MOXC</td><td>$2.4</td><td>00.02%</td><td>15285.0</td><td>0.0</td><td>0.0</td><td>inf</td></tr><tr><td>VSDA</td><td>$26.86</td><td>12.61%</td><td>37835.0</td><td>0.0</td><td>0.0</td><td>inf</td></tr><tr><td>CSML</td><td>$27.89</td><td>30.62%</td><td>2816965.0</td><td>0.0</td><td>0.0</td><td>inf</td></tr><tr><td>URGN</td><td>$28.42</td><td>36.94%</td><td>4805643.0</td><td>0.0</td><td>0.0</td><td>inf</td></tr><tr><td>MPAC</td><td>$9.75</td><td>43.49%</td><td>13296765.0</td><td>0.0</td><td>839000.0</td><td>inf</td></tr><tr><td>SPKEP</td><td>$26.501</td><td>00.52%</td><td>8850.0</td><td>0.0</td><td>0.0</td><td>inf</td></tr><tr><td>CPAH</td><td>$2.539</td><td>05.64%</td><td>14377.0</td><td>0.0</td><td>294910.0</td><td>inf</td></tr><tr><td>OTTW</td><td>$14.01</td><td>14.57%</td><td>72647.0</td><td>0.0</td><td>432417.0</td><td>inf</td></tr><tr><td>CHSCM</td><td>$27.31</td><td>00.07%</td><td>101.0</td><td>0.0</td><td>12828.0</td><td>inf</td></tr><tr><td>CLRBW</td><td>$0.15</td><td>0%</td><td>106620.0</td><td>0.0</td><td>53869.0</td><td>inf</td></tr><tr><td>BPFHW</td><td>$10</td><td>0%</td><td>31614.0</td><td>0.0</td><td>1738499.0</td><td>inf</td></tr><tr><td>BPFHP</td><td>$25.73</td><td>00.14%</td><td>17906.0</td><td>0.0</td><td>96738.0</td><td>inf</td></tr><tr><td>DWLV</td><td>$30.3001</td><td>98.24%</td><td>5240.0</td><td>0.0</td><td>142115.0</td><td>inf</td></tr><tr><td>CADC</td><td>$1.75</td><td>01.95%</td><td>17904.0</td><td>0.0</td><td>28701.0</td><td>inf</td></tr><tr><td>BFIT</td><td>$16.229</td><td>92.57%</td><td>46530.0</td><td>0.0</td><td>92328.0</td><td>inf</td></tr><tr><td>MDGS</td><td>$2.25</td><td>39.31%</td><td>287033.0</td><td>0.0</td><td>60000.0</td><td>inf</td></tr><tr><td>AGNCB</td><td>$26.2</td><td>04.94%</td><td>36661.0</td><td>0.0</td><td>309331.0</td><td>inf</td></tr><tr><td>ORG</td><td>$31.865</td><td>43.67%</td><td>173121.0</td><td>0.0</td><td>1554.0</td><td>inf</td></tr><tr><td>XTLB</td><td>$2.2899</td><td>00.95%</td><td>12089.0</td><td>0.0</td><td>36841.0</td><td>inf</td></tr><tr><td>EDBI</td><td>$32.6</td><td>76.28%</td><td>296381.0</td><td>0.0</td><td>85043.0</td><td>inf</td></tr><tr><td>PSC</td><td>$30.1</td><td>191.39%</td><td>9477834.0</td><td>0.0</td><td>8800000.0</td><td>inf</td></tr><tr><td>SLNOW</td><td>$0.051</td><td>0%</td><td>768933.0</td><td>0.0</td><td>200218.0</td><td>inf</td></tr><tr><td>NNDM</td><td>$4.78</td><td>00.55%</td><td>18320.0</td><td>0.0</td><td>50206.0</td><td>inf</td></tr><tr><td>WYIGW</td><td>$0.4478</td><td>0%</td><td>61828.0</td><td>0.0</td><td>358229.0</td><td>inf</td></tr><tr><td>CNTF</td><td>$2.23</td><td>00.02%</td><td>20407.0</td><td>0.0</td><td>125664.0</td><td>inf</td></tr><tr><td>HBANN</td><td>$25.5546</td><td>00.43%</td><td>130.0</td><td>0.0</td><td>16977.0</td><td>inf</td></tr><tr><td>CERCW</td><td>$0.05</td><td>0%</td><td>107292.0</td><td>0.0</td><td>353000.0</td><td>inf</td></tr><tr><td>TCBIP</td><td>$25.679</td><td>00.04%</td><td>2002.0</td><td>0.0</td><td>400.0</td><td>inf</td></tr><tr><td>WTFCM</td><td>$28.48</td><td>00.97%</td><td>14.0</td><td>0.0</td><td>48280.0</td><td>inf</td></tr><tr><td>DTUL</td><td>$64.71</td><td>22.24%</td><td>10800.0</td><td>0.0</td><td>3881.0</td><td>inf</td></tr><tr><td>BHACU</td><td>$10.7</td><td>02.42%</td><td>5400.0</td><td>0.0</td><td>122500.0</td><td>inf</td></tr><tr><td>LEXEB</td><td>$55</td><td>00.46%</td><td>218.0</td><td>0.0</td><td>12838.0</td><td>inf</td></tr><tr><td>CHSCO</td><td>$29.01</td><td>00.16%</td><td>5050.0</td><td>0.0</td><td>27438.0</td><td>inf</td></tr><tr><td>SOHOB</td><td>$25.3</td><td>06.86%</td><td>9281.0</td><td>0.0</td><td>101190.0</td><td>inf</td></tr><tr><td>PAVMW</td><td>$1.35</td><td>0%</td><td>3500.0</td><td>0.0</td><td>19444.0</td><td>inf</td></tr><tr><td>LVNTB</td><td>$59.88</td><td>00.63%</td><td>601.0</td><td>0.0</td><td>26013.0</td><td>inf</td></tr><tr><td>SLMBP</td><td>$67.99</td><td>02.60%</td><td>98986.0</td><td>0.0</td><td>5000.0</td><td>inf</td></tr><tr><td>OXLCO</td><td>$25.4049</td><td>00.35%</td><td>12650.0</td><td>0.0</td><td>0.0</td><td>inf</td></tr><tr><td>DFNL</td><td>$23.29</td><td>63.98%</td><td>1353341.0</td><td>0.0</td><td>1141729.0</td><td>inf</td></tr><tr><td>LGCYO</td><td>$4.69</td><td>03.51%</td><td>54338.0</td><td>0.0</td><td>198554.0</td><td>inf</td></tr><tr><td>FMCI</td><td>$9.7</td><td>50.73%</td><td>8850338.0</td><td>0.0</td><td>303000.0</td><td>inf</td></tr><tr><td>IBKCP</td><td>$28.1</td><td>00.13%</td><td>2222.0</td><td>0.0</td><td>1621.0</td><td>inf</td></tr><tr><td>FTXD</td><td>$19.54</td><td>55.60%</td><td>14728.0</td><td>0.0</td><td>13072.0</td><td>inf</td></tr><tr><td>GOODM</td><td>$25.865</td><td>06.11%</td><td>42553.0</td><td>0.0</td><td>152365.0</td><td>inf</td></tr><tr><td>IMRNW</td><td>$1.4</td><td>0%</td><td>35213.0</td><td>0.0</td><td>0.0</td><td>inf</td></tr><tr><td>NGHCN</td><td>$25.35</td><td>02.60%</td><td>20614.0</td><td>0.0</td><td>187287.0</td><td>inf</td></tr><tr><td>FMCIW</td><td>$0.37</td><td>0%</td><td>3646725.0</td><td>0.0</td><td>80800.0</td><td>inf</td></tr><tr><td>IMRN</td><td>$5.06</td><td>00.34%</td><td>11207.0</td><td>0.0</td><td>0.0</td><td>inf</td></tr><tr><td>RILYZ</td><td>$25.7125</td><td>05.10%</td><td>107147.0</td><td>0.0</td><td>0.0</td><td>inf</td></tr><tr><td>MMDMR</td><td>$0.4</td><td>0%</td><td>12187496.0</td><td>0.0</td><td>0.0</td><td>inf</td></tr><tr><td>VRNA</td><td>$13.475</td><td>30.12%</td><td>3954155.0</td><td>0.0</td><td>0.0</td><td>inf</td></tr><tr><td>CACG</td><td>$26.64</td><td>50.77%</td><td>710744.0</td><td>0.0</td><td>0.0</td><td>inf</td></tr><tr><td>MPACW</td><td>$0.4</td><td>0%</td><td>9017274.0</td><td>0.0</td><td>489000.0</td><td>inf</td></tr><tr><td>SSNT</td><td>$4.12</td><td>04.91%</td><td>220352.0</td><td>0.0</td><td>0.0</td><td>inf</td></tr><tr><td>CPTAG</td><td>$25.1</td><td>09.73%</td><td>194682.0</td><td>0.0</td><td>0.0</td><td>inf</td></tr><tr><td>KAAC</td><td>$9.71</td><td>40.29%</td><td>14165759.0</td><td>0.0</td><td>1036990.0</td><td>inf</td></tr><tr><td>USOI</td><td>$24.87</td><td>0%</td><td>265885.0</td><td>0.0</td><td>0.0</td><td>inf</td></tr><tr><td>BOMN</td><td>$17.2</td><td>65.46%</td><td>8711495.0</td><td>0.0</td><td>0.0</td><td>inf</td></tr><tr><td>FINX</td><td>$21.62</td><td>03.26%</td><td>34349.0</td><td>0.0</td><td>9656.0</td><td>inf</td></tr><tr><td>ORIG</td><td>$26.79</td><td>00.14%</td><td>130654.0</td><td>0.0</td><td>0.0</td><td>inf</td></tr><tr><td>FORK</td><td>$4.2</td><td>00.12%</td><td>5036.0</td><td>0.0</td><td>13471.0</td><td>inf</td></tr><tr><td>JSYNR</td><td>$0.25</td><td>0%</td><td>500.0</td><td>0.0</td><td>934747.0</td><td>inf</td></tr><tr><td>APWC</td><td>$3</td><td>00.38%</td><td>33770.0</td><td>0.0</td><td>18675.0</td><td>inf</td></tr><tr><td>QLC</td><td>$31.9899</td><td>19.15%</td><td>3139.0</td><td>0.0</td><td>159615.0</td><td>inf</td></tr><tr><td>YERR</td><td>$13.3</td><td>00.09%</td><td>151584.0</td><td>0.0</td><td>0.0</td><td>inf</td></tr><tr><td>VEAC</td><td>$9.74</td><td>42.30%</td><td>22550365.0</td><td>0.0</td><td>797133.0</td><td>inf</td></tr><tr><td>TICCL</td><td>$26.324</td><td>00.02%</td><td>475.0</td><td>0.0</td><td>0.0</td><td>inf</td></tr><tr><td>LRGE</td><td>$27.4828</td><td>08.09%</td><td>8092.0</td><td>0.0</td><td>0.0</td><td>inf</td></tr><tr><td>SQZZ</td><td>$24.9945</td><td>00.80%</td><td>200.0</td><td>0.0</td><td>0.0</td><td>inf</td></tr><tr><td>SRTSW</td><td>$2</td><td>0%</td><td>231256.0</td><td>0.0</td><td>964095.0</td><td>inf</td></tr><tr><td>SRUNW</td><td>$1.6</td><td>0%</td><td>7653046.0</td><td>0.0</td><td>268201.0</td><td>inf</td></tr><tr><td>CELH</td><td>$5.15</td><td>02.31%</td><td>1032169.0</td><td>1.0</td><td>15664.0</td><td>1032169.0</td></tr><tr><td>NCSM</td><td>$20.99</td><td>92.32%</td><td>40183412.0</td><td>377.0</td><td>26065.0</td><td>106587.299735</td></tr><tr><td>APPN</td><td>$23.27</td><td>96.96%</td><td>6979779.0</td><td>200.0</td><td>(200)</td><td>34898.895</td></tr><tr><td>CGBD</td><td>$18.55</td><td>07.92%</td><td>4239632.0</td><td>155.0</td><td>660301.0</td><td>27352.4645161</td></tr><tr><td>GTHX</td><td>$21.86</td><td>35.11%</td><td>9882053.0</td><td>770.0</td><td>49460.0</td><td>12833.8350649</td></tr><tr><td>OLD</td><td>$24.525</td><td>41.45%</td><td>125134.0</td><td>10.0</td><td>40637.0</td><td>12513.4</td></tr></table>"
      ],
      "text/plain": [
       "<IPython.core.display.HTML object>"
      ]
     },
     "metadata": {},
     "output_type": "display_data"
    }
   ],
   "source": [
    "df[\"ratio\"] = df.increased_shares / df.decreased_shares\n",
    "df.sort_values(\"ratio\", ascending=False, inplace=True)\n",
    "display(HTML(\"<h3>Top 100 stocks by Active Bullish Activity By Shares (Increased / Decreased)</h3>\"))\n",
    "\n",
    "draw_table(\n",
    "    df[:100], \n",
    "    (\"Stock\", \"Share price\", \"Inst.Ownership\", \"Increased\", \"Decreased\", \"Held\", \"Ratio\"),\n",
    "    (\"symbol\", \"price\", \"institutional_ownership\", \"increased_shares\", \"decreased_shares\", \"held_shares\", \"ratio\")\n",
    ")"
   ]
  },
  {
   "cell_type": "code",
   "execution_count": 10,
   "metadata": {},
   "outputs": [
    {
     "data": {
      "text/html": [
       "<h3>Top 100 stocks by New Bullish Activity By Funds (New / Sold Out)</h3>"
      ],
      "text/plain": [
       "<IPython.core.display.HTML object>"
      ]
     },
     "metadata": {},
     "output_type": "display_data"
    },
    {
     "data": {
      "text/html": [
       "<table><tr><th>Stock</th><th>Share price</th><th>Inst.Ownership</th><th>New</th><th>Sold out</th><th>Ratio</th></tr><tr><td>ATNX</td><td>$16.91</td><td>01.10%</td><td>16.0</td><td>0.0</td><td>inf</td></tr><tr><td>FLAT</td><td>$61.28</td><td>39.24%</td><td>1.0</td><td>0.0</td><td>inf</td></tr><tr><td>CIL</td><td>$39.6755</td><td>66.86%</td><td>1.0</td><td>0.0</td><td>inf</td></tr><tr><td>MGCD</td><td>$8.56</td><td>22.61%</td><td>1.0</td><td>0.0</td><td>inf</td></tr><tr><td>INFR</td><td>$29.51</td><td>04.85%</td><td>4.0</td><td>0.0</td><td>inf</td></tr><tr><td>IDSA</td><td>$1.7001</td><td>03.93%</td><td>2.0</td><td>0.0</td><td>inf</td></tr><tr><td>KBLMU</td><td>$10.2</td><td>0%</td><td>17.0</td><td>0.0</td><td>inf</td></tr><tr><td>HBK</td><td>$14.645</td><td>29.35%</td><td>2.0</td><td>0.0</td><td>inf</td></tr><tr><td>AZRX</td><td>$3.2</td><td>06.06%</td><td>6.0</td><td>0.0</td><td>inf</td></tr><tr><td>IRDMB</td><td>$434.87</td><td>33.95%</td><td>2.0</td><td>0.0</td><td>inf</td></tr><tr><td>LINDW</td><td>$1.84</td><td>0%</td><td>2.0</td><td>0.0</td><td>inf</td></tr><tr><td>QRHC</td><td>$1.2599</td><td>12.86%</td><td>1.0</td><td>0.0</td><td>inf</td></tr><tr><td>JSYNW</td><td>$0.17</td><td>0%</td><td>2.0</td><td>0.0</td><td>inf</td></tr><tr><td>FMCIU</td><td>$10.18</td><td>0%</td><td>15.0</td><td>0.0</td><td>inf</td></tr><tr><td>MBCN</td><td>$46</td><td>24.98%</td><td>22.0</td><td>0.0</td><td>inf</td></tr><tr><td>MIIIU</td><td>$10.3</td><td>19.60%</td><td>2.0</td><td>0.0</td><td>inf</td></tr><tr><td>ATOM</td><td>$3.12</td><td>15.78%</td><td>2.0</td><td>0.0</td><td>inf</td></tr><tr><td>NUROW</td><td>$0.0301</td><td>0%</td><td>2.0</td><td>0.0</td><td>inf</td></tr><tr><td>CLRBZ</td><td>$0.69</td><td>0%</td><td>1.0</td><td>0.0</td><td>inf</td></tr><tr><td>VTGN</td><td>$0.8938</td><td>10.67%</td><td>4.0</td><td>0.0</td><td>inf</td></tr><tr><td>OBCI</td><td>$4.62</td><td>02.96%</td><td>1.0</td><td>0.0</td><td>inf</td></tr><tr><td>ESGG</td><td>$92.22</td><td>30.43%</td><td>2.0</td><td>0.0</td><td>inf</td></tr><tr><td>ANDAW</td><td>$0.27</td><td>0%</td><td>1.0</td><td>0.0</td><td>inf</td></tr><tr><td>FMAO</td><td>$40.48</td><td>07.99%</td><td>30.0</td><td>0.0</td><td>inf</td></tr><tr><td>MTSL</td><td>$2.09</td><td>03.61%</td><td>2.0</td><td>0.0</td><td>inf</td></tr><tr><td>SWIN</td><td>$29.288</td><td>29.65%</td><td>2.0</td><td>0.0</td><td>inf</td></tr><tr><td>OVID</td><td>$6.58</td><td>32.31%</td><td>41.0</td><td>0.0</td><td>inf</td></tr><tr><td>ONSIZ</td><td>$0.05</td><td>0%</td><td>1.0</td><td>0.0</td><td>inf</td></tr><tr><td>PRAN</td><td>$3.23</td><td>01.83%</td><td>3.0</td><td>0.0</td><td>inf</td></tr><tr><td>ANDAU</td><td>$10.2</td><td>17.20%</td><td>1.0</td><td>0.0</td><td>inf</td></tr><tr><td>RFAP</td><td>$60.18</td><td>70.08%</td><td>4.0</td><td>0.0</td><td>inf</td></tr><tr><td>FAAR</td><td>$29.7</td><td>17.53%</td><td>4.0</td><td>0.0</td><td>inf</td></tr><tr><td>VEACU</td><td>$10.15</td><td>64.03%</td><td>25.0</td><td>0.0</td><td>inf</td></tr><tr><td>HYXE</td><td>$51.945</td><td>89.83%</td><td>1.0</td><td>0.0</td><td>inf</td></tr><tr><td>OCC</td><td>$2.45</td><td>12.27%</td><td>1.0</td><td>0.0</td><td>inf</td></tr><tr><td>VVPR</td><td>$3.2228</td><td>02.72%</td><td>1.0</td><td>0.0</td><td>inf</td></tr><tr><td>EFAS</td><td>$18.16</td><td>71.15%</td><td>1.0</td><td>0.0</td><td>inf</td></tr><tr><td>SRUN</td><td>$10</td><td>38.54%</td><td>33.0</td><td>0.0</td><td>inf</td></tr><tr><td>LCAHW</td><td>$0.725</td><td>0%</td><td>3.0</td><td>0.0</td><td>inf</td></tr><tr><td>FCAP</td><td>$35.5</td><td>01.41%</td><td>1.0</td><td>0.0</td><td>inf</td></tr><tr><td>NFEC</td><td>$0.94</td><td>00.63%</td><td>1.0</td><td>0.0</td><td>inf</td></tr><tr><td>OKTA</td><td>$27.92</td><td>64.69%</td><td>83.0</td><td>0.0</td><td>inf</td></tr><tr><td>NSEC</td><td>$13.1</td><td>02.63%</td><td>1.0</td><td>0.0</td><td>inf</td></tr><tr><td>ATAI</td><td>$4.7</td><td>00.31%</td><td>2.0</td><td>0.0</td><td>inf</td></tr><tr><td>JCTCF</td><td>$14.45</td><td>12.79%</td><td>1.0</td><td>0.0</td><td>inf</td></tr><tr><td>AETI</td><td>$1.575</td><td>40.94%</td><td>2.0</td><td>0.0</td><td>inf</td></tr><tr><td>DVCR</td><td>$11.55</td><td>19.32%</td><td>1.0</td><td>0.0</td><td>inf</td></tr><tr><td>QYLD</td><td>$24.33</td><td>17.90%</td><td>6.0</td><td>0.0</td><td>inf</td></tr><tr><td>IIJI</td><td>$10.44</td><td>00.50%</td><td>2.0</td><td>0.0</td><td>inf</td></tr><tr><td>CPHC</td><td>$12.6</td><td>29.77%</td><td>3.0</td><td>0.0</td><td>inf</td></tr><tr><td>FEUZ</td><td>$42.73</td><td>25.87%</td><td>2.0</td><td>0.0</td><td>inf</td></tr><tr><td>BYSI</td><td>$36.28</td><td>01.23%</td><td>3.0</td><td>0.0</td><td>inf</td></tr><tr><td>ZBIO</td><td>$12.09</td><td>26.72%</td><td>1.0</td><td>0.0</td><td>inf</td></tr><tr><td>FTXG</td><td>$19.67</td><td>399.24%</td><td>1.0</td><td>0.0</td><td>inf</td></tr><tr><td>TAPR</td><td>$23.79</td><td>01.53%</td><td>1.0</td><td>0.0</td><td>inf</td></tr><tr><td>LMFAW</td><td>$0.07</td><td>0%</td><td>1.0</td><td>0.0</td><td>inf</td></tr><tr><td>LNGR</td><td>$19.5</td><td>68.88%</td><td>2.0</td><td>0.0</td><td>inf</td></tr><tr><td>JSML</td><td>$35.845</td><td>29.99%</td><td>2.0</td><td>0.0</td><td>inf</td></tr><tr><td>SCACW</td><td>$1.25</td><td>0%</td><td>2.0</td><td>0.0</td><td>inf</td></tr><tr><td>AAME</td><td>$3.5</td><td>05.06%</td><td>1.0</td><td>0.0</td><td>inf</td></tr><tr><td>NTEC</td><td>$8.2</td><td>07.23%</td><td>1.0</td><td>0.0</td><td>inf</td></tr><tr><td>SGLBW</td><td>$0.4666</td><td>0%</td><td>1.0</td><td>0.0</td><td>inf</td></tr><tr><td>MMDMU</td><td>$10.45</td><td>0%</td><td>10.0</td><td>0.0</td><td>inf</td></tr><tr><td>PVBC</td><td>$23.75</td><td>17.75%</td><td>2.0</td><td>0.0</td><td>inf</td></tr><tr><td>MACQ</td><td>$10.14</td><td>42.75%</td><td>2.0</td><td>0.0</td><td>inf</td></tr><tr><td>OASM</td><td>$1.01</td><td>00.50%</td><td>1.0</td><td>0.0</td><td>inf</td></tr><tr><td>SIEB</td><td>$3.8101</td><td>01.03%</td><td>2.0</td><td>0.0</td><td>inf</td></tr><tr><td>SNGXW</td><td>$0.5882</td><td>0%</td><td>1.0</td><td>0.0</td><td>inf</td></tr><tr><td>UCBA</td><td>$20.5</td><td>24.13%</td><td>1.0</td><td>0.0</td><td>inf</td></tr><tr><td>PATI</td><td>$19.645</td><td>37.79%</td><td>4.0</td><td>0.0</td><td>inf</td></tr><tr><td>FORTY</td><td>$42.38</td><td>00.10%</td><td>1.0</td><td>0.0</td><td>inf</td></tr><tr><td>ONSIW</td><td>$0.0821</td><td>0%</td><td>2.0</td><td>0.0</td><td>inf</td></tr><tr><td>OXBRW</td><td>$0.3</td><td>0%</td><td>1.0</td><td>0.0</td><td>inf</td></tr><tr><td>BCTF</td><td>$14.22</td><td>13.41%</td><td>3.0</td><td>0.0</td><td>inf</td></tr><tr><td>GPAC</td><td>$10.05</td><td>83.87%</td><td>2.0</td><td>0.0</td><td>inf</td></tr><tr><td>HYND</td><td>$20.8621</td><td>38.15%</td><td>1.0</td><td>0.0</td><td>inf</td></tr><tr><td>FTRI</td><td>$12.06</td><td>19.79%</td><td>1.0</td><td>0.0</td><td>inf</td></tr><tr><td>DTYS</td><td>$17.72</td><td>04.88%</td><td>3.0</td><td>0.0</td><td>inf</td></tr><tr><td>GAINM</td><td>$25.456</td><td>01.15%</td><td>1.0</td><td>0.0</td><td>inf</td></tr><tr><td>FITBI</td><td>$28.44</td><td>01.14%</td><td>1.0</td><td>0.0</td><td>inf</td></tr><tr><td>STLRU</td><td>$10.52</td><td>0%</td><td>1.0</td><td>0.0</td><td>inf</td></tr><tr><td>FNBG</td><td>$34.8</td><td>19.68%</td><td>36.0</td><td>0.0</td><td>inf</td></tr><tr><td>PFIN</td><td>$7.31</td><td>15.68%</td><td>1.0</td><td>0.0</td><td>inf</td></tr><tr><td>CERCW</td><td>$0.05</td><td>0%</td><td>1.0</td><td>0.0</td><td>inf</td></tr><tr><td>DWLV</td><td>$30.3001</td><td>98.24%</td><td>1.0</td><td>0.0</td><td>inf</td></tr><tr><td>CADC</td><td>$1.75</td><td>01.95%</td><td>1.0</td><td>0.0</td><td>inf</td></tr><tr><td>BFIT</td><td>$16.229</td><td>92.57%</td><td>1.0</td><td>0.0</td><td>inf</td></tr><tr><td>MDGS</td><td>$2.25</td><td>39.31%</td><td>3.0</td><td>0.0</td><td>inf</td></tr><tr><td>ORG</td><td>$31.865</td><td>43.67%</td><td>4.0</td><td>0.0</td><td>inf</td></tr><tr><td>PSC</td><td>$30.1</td><td>191.39%</td><td>2.0</td><td>0.0</td><td>inf</td></tr><tr><td>SLNOW</td><td>$0.051</td><td>0%</td><td>1.0</td><td>0.0</td><td>inf</td></tr><tr><td>NNDM</td><td>$4.78</td><td>00.55%</td><td>2.0</td><td>0.0</td><td>inf</td></tr><tr><td>WYIGW</td><td>$0.4478</td><td>0%</td><td>1.0</td><td>0.0</td><td>inf</td></tr><tr><td>CNTF</td><td>$2.23</td><td>00.02%</td><td>3.0</td><td>0.0</td><td>inf</td></tr><tr><td>TCBIP</td><td>$25.679</td><td>00.04%</td><td>1.0</td><td>0.0</td><td>inf</td></tr><tr><td>CLRBW</td><td>$0.15</td><td>0%</td><td>1.0</td><td>0.0</td><td>inf</td></tr><tr><td>BHACU</td><td>$10.7</td><td>02.42%</td><td>1.0</td><td>0.0</td><td>inf</td></tr><tr><td>LEXEB</td><td>$55</td><td>00.46%</td><td>1.0</td><td>0.0</td><td>inf</td></tr><tr><td>ARTW</td><td>$2.65</td><td>02.28%</td><td>1.0</td><td>0.0</td><td>inf</td></tr><tr><td>OXLCO</td><td>$25.4049</td><td>00.35%</td><td>2.0</td><td>0.0</td><td>inf</td></tr></table>"
      ],
      "text/plain": [
       "<IPython.core.display.HTML object>"
      ]
     },
     "metadata": {},
     "output_type": "display_data"
    }
   ],
   "source": [
    "df[\"ratio\"] = df.new_holders / df.sold_holders\n",
    "df.sort_values(\"ratio\", ascending=False, inplace=True)\n",
    "display(HTML(\"<h3>Top 100 stocks by New Bullish Activity By Funds (New / Sold Out)</h3>\"))\n",
    "\n",
    "draw_table(\n",
    "    df[:100], \n",
    "    (\"Stock\", \"Share price\", \"Inst.Ownership\", \"New\", \"Sold out\", \"Ratio\"),\n",
    "    (\"symbol\", \"price\", \"institutional_ownership\", \"new_holders\", \"sold_holders\", \"ratio\")\n",
    ")"
   ]
  },
  {
   "cell_type": "code",
   "execution_count": 11,
   "metadata": {
    "scrolled": true
   },
   "outputs": [
    {
     "data": {
      "text/html": [
       "<h3>Top 100 stocks by New Bullish Activity By Shares (New / Sold Out)</h3>"
      ],
      "text/plain": [
       "<IPython.core.display.HTML object>"
      ]
     },
     "metadata": {},
     "output_type": "display_data"
    },
    {
     "data": {
      "text/html": [
       "<table><tr><th>Stock</th><th>Share price</th><th>Inst.Ownership</th><th>New</th><th>Sold out</th><th>Ratio</th></tr><tr><td>ATNX</td><td>$16.91</td><td>01.10%</td><td>440703.0</td><td>0.0</td><td>inf</td></tr><tr><td>FNBG</td><td>$34.8</td><td>19.68%</td><td>1045326.0</td><td>0.0</td><td>inf</td></tr><tr><td>FMCIW</td><td>$0.37</td><td>0%</td><td>3596225.0</td><td>0.0</td><td>inf</td></tr><tr><td>IMRN</td><td>$5.06</td><td>00.34%</td><td>11207.0</td><td>0.0</td><td>inf</td></tr><tr><td>BPFHW</td><td>$10</td><td>0%</td><td>10000.0</td><td>0.0</td><td>inf</td></tr><tr><td>OTTW</td><td>$14.01</td><td>14.57%</td><td>71646.0</td><td>0.0</td><td>inf</td></tr><tr><td>MMDMR</td><td>$0.4</td><td>0%</td><td>12187496.0</td><td>0.0</td><td>inf</td></tr><tr><td>ARGX</td><td>$23</td><td>24.70%</td><td>6641679.0</td><td>0.0</td><td>inf</td></tr><tr><td>JSYNU</td><td>$10.7792</td><td>15.96%</td><td>20900.0</td><td>0.0</td><td>inf</td></tr><tr><td>MACQW</td><td>$0.3351</td><td>0%</td><td>151950.0</td><td>0.0</td><td>inf</td></tr><tr><td>ITEQ</td><td>$32.34</td><td>18.74%</td><td>123458.0</td><td>0.0</td><td>inf</td></tr><tr><td>TATT</td><td>$10.8</td><td>02.93%</td><td>11913.0</td><td>0.0</td><td>inf</td></tr><tr><td>DSLV</td><td>$24.7799</td><td>54.86%</td><td>323190.0</td><td>0.0</td><td>inf</td></tr><tr><td>HUNT</td><td>$9.7889</td><td>61.51%</td><td>4872890.0</td><td>0.0</td><td>inf</td></tr><tr><td>CATS</td><td>$3.71</td><td>07.26%</td><td>791899.0</td><td>0.0</td><td>inf</td></tr><tr><td>KAACW</td><td>$0.85</td><td>0%</td><td>3720486.0</td><td>0.0</td><td>inf</td></tr><tr><td>NESRW</td><td>$0.52</td><td>0%</td><td>8502591.0</td><td>0.0</td><td>inf</td></tr><tr><td>NESR</td><td>$9.78</td><td>38.09%</td><td>10788583.0</td><td>0.0</td><td>inf</td></tr><tr><td>VERI</td><td>$38.33</td><td>08.59%</td><td>1281686.0</td><td>0.0</td><td>inf</td></tr><tr><td>IMRNW</td><td>$1.4</td><td>0%</td><td>35213.0</td><td>0.0</td><td>inf</td></tr><tr><td>FTXD</td><td>$19.54</td><td>55.60%</td><td>108.0</td><td>0.0</td><td>inf</td></tr><tr><td>FMCI</td><td>$9.7</td><td>50.73%</td><td>8749338.0</td><td>0.0</td><td>inf</td></tr><tr><td>NNDM</td><td>$4.78</td><td>00.55%</td><td>1519.0</td><td>0.0</td><td>inf</td></tr><tr><td>CERCW</td><td>$0.05</td><td>0%</td><td>107292.0</td><td>0.0</td><td>inf</td></tr><tr><td>DWLV</td><td>$30.3001</td><td>98.24%</td><td>1883.0</td><td>0.0</td><td>inf</td></tr><tr><td>BFIT</td><td>$16.229</td><td>92.57%</td><td>44707.0</td><td>0.0</td><td>inf</td></tr><tr><td>MDGS</td><td>$2.25</td><td>39.31%</td><td>287033.0</td><td>0.0</td><td>inf</td></tr><tr><td>ORG</td><td>$31.865</td><td>43.67%</td><td>173115.0</td><td>0.0</td><td>inf</td></tr><tr><td>PSC</td><td>$30.1</td><td>191.39%</td><td>9477834.0</td><td>0.0</td><td>inf</td></tr><tr><td>SLNOW</td><td>$0.051</td><td>0%</td><td>2706.0</td><td>0.0</td><td>inf</td></tr><tr><td>WYIGW</td><td>$0.4478</td><td>0%</td><td>1000.0</td><td>0.0</td><td>inf</td></tr><tr><td>DFNL</td><td>$23.29</td><td>63.98%</td><td>707700.0</td><td>0.0</td><td>inf</td></tr><tr><td>CNTF</td><td>$2.23</td><td>00.02%</td><td>19842.0</td><td>0.0</td><td>inf</td></tr><tr><td>TCBIP</td><td>$25.679</td><td>00.04%</td><td>2002.0</td><td>0.0</td><td>inf</td></tr><tr><td>CLRBW</td><td>$0.15</td><td>0%</td><td>106600.0</td><td>0.0</td><td>inf</td></tr><tr><td>BHACU</td><td>$10.7</td><td>02.42%</td><td>5400.0</td><td>0.0</td><td>inf</td></tr><tr><td>LEXEB</td><td>$55</td><td>00.46%</td><td>2.0</td><td>0.0</td><td>inf</td></tr><tr><td>ARTW</td><td>$2.65</td><td>02.28%</td><td>39.0</td><td>0.0</td><td>inf</td></tr><tr><td>OXLCO</td><td>$25.4049</td><td>00.35%</td><td>12650.0</td><td>0.0</td><td>inf</td></tr><tr><td>CPAH</td><td>$2.539</td><td>05.64%</td><td>14177.0</td><td>0.0</td><td>inf</td></tr><tr><td>FTXN</td><td>$18.55</td><td>47.36%</td><td>88649.0</td><td>0.0</td><td>inf</td></tr><tr><td>FMCIR</td><td>$0.389</td><td>0%</td><td>9165127.0</td><td>0.0</td><td>inf</td></tr><tr><td>JSYN</td><td>$10.3265</td><td>48.25%</td><td>140661.0</td><td>0.0</td><td>inf</td></tr><tr><td>GTHX</td><td>$21.86</td><td>35.11%</td><td>9882053.0</td><td>0.0</td><td>inf</td></tr><tr><td>MIIIW</td><td>$0.525</td><td>0%</td><td>323.0</td><td>0.0</td><td>inf</td></tr><tr><td>VRIG</td><td>$25.1632</td><td>33.82%</td><td>296257.0</td><td>0.0</td><td>inf</td></tr><tr><td>CBMXW</td><td>$2.57</td><td>0%</td><td>200.0</td><td>0.0</td><td>inf</td></tr><tr><td>TOCA</td><td>$10.34</td><td>37.83%</td><td>7420392.0</td><td>0.0</td><td>inf</td></tr><tr><td>BNTCW</td><td>$0.42</td><td>0%</td><td>385.0</td><td>0.0</td><td>inf</td></tr><tr><td>ORIG</td><td>$26.79</td><td>00.14%</td><td>130654.0</td><td>0.0</td><td>inf</td></tr><tr><td>KAAC</td><td>$9.71</td><td>40.29%</td><td>14113792.0</td><td>0.0</td><td>inf</td></tr><tr><td>VRNA</td><td>$13.475</td><td>30.12%</td><td>3954155.0</td><td>0.0</td><td>inf</td></tr><tr><td>USOI</td><td>$24.87</td><td>0%</td><td>265885.0</td><td>0.0</td><td>inf</td></tr><tr><td>BOMN</td><td>$17.2</td><td>65.46%</td><td>8711495.0</td><td>0.0</td><td>inf</td></tr><tr><td>MPACW</td><td>$0.4</td><td>0%</td><td>8989674.0</td><td>0.0</td><td>inf</td></tr><tr><td>CACG</td><td>$26.64</td><td>50.77%</td><td>710744.0</td><td>0.0</td><td>inf</td></tr><tr><td>CPTAG</td><td>$25.1</td><td>09.73%</td><td>194682.0</td><td>0.0</td><td>inf</td></tr><tr><td>SSNT</td><td>$4.12</td><td>04.91%</td><td>220352.0</td><td>0.0</td><td>inf</td></tr><tr><td>FLAT</td><td>$61.28</td><td>39.24%</td><td>3434.0</td><td>0.0</td><td>inf</td></tr><tr><td>NCSM</td><td>$20.99</td><td>92.32%</td><td>40179212.0</td><td>0.0</td><td>inf</td></tr><tr><td>SRTSW</td><td>$2</td><td>0%</td><td>231256.0</td><td>0.0</td><td>inf</td></tr><tr><td>MMDMW</td><td>$0.54</td><td>0%</td><td>5659149.0</td><td>0.0</td><td>inf</td></tr><tr><td>RILYZ</td><td>$25.7125</td><td>05.10%</td><td>107147.0</td><td>0.0</td><td>inf</td></tr><tr><td>CPTAL</td><td>$25.35</td><td>0%</td><td>75.0</td><td>0.0</td><td>inf</td></tr><tr><td>MOXC</td><td>$2.4</td><td>00.02%</td><td>15285.0</td><td>0.0</td><td>inf</td></tr><tr><td>VSDA</td><td>$26.86</td><td>12.61%</td><td>37835.0</td><td>0.0</td><td>inf</td></tr><tr><td>CSML</td><td>$27.89</td><td>30.62%</td><td>2816965.0</td><td>0.0</td><td>inf</td></tr><tr><td>URGN</td><td>$28.42</td><td>36.94%</td><td>4805643.0</td><td>0.0</td><td>inf</td></tr><tr><td>MPAC</td><td>$9.75</td><td>43.49%</td><td>13067665.0</td><td>0.0</td><td>inf</td></tr><tr><td>SPKEP</td><td>$26.501</td><td>00.52%</td><td>8850.0</td><td>0.0</td><td>inf</td></tr><tr><td>SLMBP</td><td>$67.99</td><td>02.60%</td><td>98986.0</td><td>0.0</td><td>inf</td></tr><tr><td>SQZZ</td><td>$24.9945</td><td>00.80%</td><td>200.0</td><td>0.0</td><td>inf</td></tr><tr><td>SRUNW</td><td>$1.6</td><td>0%</td><td>7484471.0</td><td>0.0</td><td>inf</td></tr><tr><td>FINX</td><td>$21.62</td><td>03.26%</td><td>31041.0</td><td>0.0</td><td>inf</td></tr><tr><td>JSYNR</td><td>$0.25</td><td>0%</td><td>500.0</td><td>0.0</td><td>inf</td></tr><tr><td>YERR</td><td>$13.3</td><td>00.09%</td><td>151584.0</td><td>0.0</td><td>inf</td></tr><tr><td>VEAC</td><td>$9.74</td><td>42.30%</td><td>22165965.0</td><td>0.0</td><td>inf</td></tr><tr><td>TICCL</td><td>$26.324</td><td>00.02%</td><td>475.0</td><td>0.0</td><td>inf</td></tr><tr><td>LRGE</td><td>$27.4828</td><td>08.09%</td><td>8092.0</td><td>0.0</td><td>inf</td></tr><tr><td>PFIN</td><td>$7.31</td><td>15.68%</td><td>121.0</td><td>0.0</td><td>inf</td></tr><tr><td>CADC</td><td>$1.75</td><td>01.95%</td><td>11832.0</td><td>0.0</td><td>inf</td></tr><tr><td>STLRU</td><td>$10.52</td><td>0%</td><td>300.0</td><td>0.0</td><td>inf</td></tr><tr><td>NFEC</td><td>$0.94</td><td>00.63%</td><td>11322.0</td><td>0.0</td><td>inf</td></tr><tr><td>ANDAW</td><td>$0.27</td><td>0%</td><td>32825.0</td><td>0.0</td><td>inf</td></tr><tr><td>FMAO</td><td>$40.48</td><td>07.99%</td><td>717254.0</td><td>0.0</td><td>inf</td></tr><tr><td>MTSL</td><td>$2.09</td><td>03.61%</td><td>6762.0</td><td>0.0</td><td>inf</td></tr><tr><td>SWIN</td><td>$29.288</td><td>29.65%</td><td>27542.0</td><td>0.0</td><td>inf</td></tr><tr><td>OVID</td><td>$6.58</td><td>32.31%</td><td>7843935.0</td><td>0.0</td><td>inf</td></tr><tr><td>ONSIZ</td><td>$0.05</td><td>0%</td><td>11304.0</td><td>0.0</td><td>inf</td></tr><tr><td>PRAN</td><td>$3.23</td><td>01.83%</td><td>17040.0</td><td>0.0</td><td>inf</td></tr><tr><td>ANDAU</td><td>$10.2</td><td>17.20%</td><td>100.0</td><td>0.0</td><td>inf</td></tr><tr><td>RFAP</td><td>$60.18</td><td>70.08%</td><td>45735.0</td><td>0.0</td><td>inf</td></tr><tr><td>FAAR</td><td>$29.7</td><td>17.53%</td><td>13281.0</td><td>0.0</td><td>inf</td></tr><tr><td>VEACU</td><td>$10.15</td><td>64.03%</td><td>29663022.0</td><td>0.0</td><td>inf</td></tr><tr><td>HYXE</td><td>$51.945</td><td>89.83%</td><td>100000.0</td><td>0.0</td><td>inf</td></tr><tr><td>OCC</td><td>$2.45</td><td>12.27%</td><td>500.0</td><td>0.0</td><td>inf</td></tr><tr><td>VVPR</td><td>$3.2228</td><td>02.72%</td><td>2808.0</td><td>0.0</td><td>inf</td></tr><tr><td>EFAS</td><td>$18.16</td><td>71.15%</td><td>2250.0</td><td>0.0</td><td>inf</td></tr><tr><td>FITBI</td><td>$28.44</td><td>01.14%</td><td>170.0</td><td>0.0</td><td>inf</td></tr><tr><td>LCAHW</td><td>$0.725</td><td>0%</td><td>749315.0</td><td>0.0</td><td>inf</td></tr></table>"
      ],
      "text/plain": [
       "<IPython.core.display.HTML object>"
      ]
     },
     "metadata": {},
     "output_type": "display_data"
    }
   ],
   "source": [
    "df[\"ratio\"] = df.new_shares / df.sold_shares\n",
    "df.sort_values(\"ratio\", ascending=False, inplace=True)\n",
    "display(HTML(\"<h3>Top 100 stocks by New Bullish Activity By Shares (New / Sold Out)</h3>\"))\n",
    "\n",
    "draw_table(\n",
    "    df[:100], \n",
    "    (\"Stock\", \"Share price\", \"Inst.Ownership\", \"New\", \"Sold out\", \"Ratio\"),\n",
    "    (\"symbol\", \"price\", \"institutional_ownership\", \"new_shares\", \"sold_shares\", \"ratio\")\n",
    ")"
   ]
  }
 ],
 "metadata": {
  "kernelspec": {
   "display_name": "Python 3",
   "language": "python",
   "name": "python3"
  },
  "language_info": {
   "codemirror_mode": {
    "name": "ipython",
    "version": 3
   },
   "file_extension": ".py",
   "mimetype": "text/x-python",
   "name": "python",
   "nbconvert_exporter": "python",
   "pygments_lexer": "ipython3",
   "version": "3.5.2"
  }
 },
 "nbformat": 4,
 "nbformat_minor": 2
}
